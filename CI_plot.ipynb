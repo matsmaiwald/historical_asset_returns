{
 "cells": [
  {
   "cell_type": "markdown",
   "metadata": {},
   "source": [
    "# Set up"
   ]
  },
  {
   "cell_type": "code",
   "execution_count": 1,
   "metadata": {},
   "outputs": [],
   "source": [
    "%load_ext autoreload\n",
    "%autoreload 2"
   ]
  },
  {
   "cell_type": "code",
   "execution_count": 2,
   "metadata": {},
   "outputs": [],
   "source": [
    "import matplotlib.pyplot as plt\n",
    "import pandas as pd\n",
    "import numpy as np\n",
    "\n",
    "from ci_plot_utils import (make_confidence_interval_graph, get_cum_net_returns, make_plot_df, get_portfolio_returns)\n",
    "from parameters import params"
   ]
  },
  {
   "cell_type": "code",
   "execution_count": 3,
   "metadata": {},
   "outputs": [],
   "source": [
    "df = pd.read_csv('./data_input/histretSP.csv')\n",
    "\n",
    "for col in ['snp500', '3mon', '10yr']:\n",
    "    df[col] = df[col].str.rstrip('%').astype('float') / 100.0\n",
    "df = df.set_index('year')\n",
    "portfolio_allocation = np.array(\n",
    "    [\n",
    "    params[\"share_snp500\"], \n",
    "    params[\"share_3mon\"],\n",
    "    params[\"share_10yr\"], \n",
    "    ]\n",
    "    )\n",
    "\n",
    "df_all_returns = df.copy()\n",
    "df_all_returns[\"portfolio\"] = (\n",
    "    get_portfolio_returns(\n",
    "        df.to_numpy(), \n",
    "        portfolio_allocation,\n",
    "        n_assets=3, \n",
    "        n_time_periods=df_all_returns.shape[0]\n",
    "        )\n",
    "        )"
   ]
  },
  {
   "cell_type": "markdown",
   "metadata": {},
   "source": [
    "# Run MVP script"
   ]
  },
  {
   "cell_type": "code",
   "execution_count": 4,
   "metadata": {
    "scrolled": false
   },
   "outputs": [],
   "source": [
    "#%run ci_plot_utils.py"
   ]
  },
  {
   "cell_type": "markdown",
   "metadata": {},
   "source": [
    "# EDA"
   ]
  },
  {
   "cell_type": "code",
   "execution_count": 5,
   "metadata": {},
   "outputs": [
    {
     "data": {
      "text/plain": [
       "snp500    0.113565\n",
       "3mon      0.034263\n",
       "10yr      0.050965\n",
       "dtype: float64"
      ]
     },
     "execution_count": 5,
     "metadata": {},
     "output_type": "execute_result"
    }
   ],
   "source": [
    "df.mean()"
   ]
  },
  {
   "cell_type": "code",
   "execution_count": 6,
   "metadata": {},
   "outputs": [
    {
     "data": {
      "text/plain": [
       "snp500    0.195817\n",
       "3mon      0.030399\n",
       "10yr      0.076989\n",
       "dtype: float64"
      ]
     },
     "execution_count": 6,
     "metadata": {},
     "output_type": "execute_result"
    }
   ],
   "source": [
    "df.std()"
   ]
  },
  {
   "cell_type": "code",
   "execution_count": 7,
   "metadata": {},
   "outputs": [
    {
     "data": {
      "image/png": "[encoded data removed]",
      "text/plain": [
       "<Figure size 432x288 with 1 Axes>"
      ]
     },
     "metadata": {
      "needs_background": "light"
     },
     "output_type": "display_data"
    },
    {
     "data": {
      "image/png": "[encoded data removed]",
      "text/plain": [
       "<Figure size 432x288 with 1 Axes>"
      ]
     },
     "metadata": {
      "needs_background": "light"
     },
     "output_type": "display_data"
    },
    {
     "data": {
      "image/png": "[encoded data removed]",
      "text/plain": [
       "<Figure size 432x288 with 1 Axes>"
      ]
     },
     "metadata": {
      "needs_background": "light"
     },
     "output_type": "display_data"
    }
   ],
   "source": [
    "for col in df.columns:\n",
    "    fig, ax = plt.subplots()\n",
    "    ax = df[col].plot(kind=\"hist\", title=col)\n",
    "    plt.axvline(df[col].mean(), color='k', linestyle='dashed', linewidth=1)\n",
    "    min_ylim, max_ylim = plt.ylim()\n",
    "    plt.text(df[col].mean()*1.1, max_ylim*0.9, 'Mean: {:.2f}'.format(df[col].mean()))"
   ]
  },
  {
   "cell_type": "code",
   "execution_count": 8,
   "metadata": {},
   "outputs": [
    {
     "data": {
      "text/html": [
       "<div>\n",
       "<style scoped>\n",
       "    .dataframe tbody tr th:only-of-type {\n",
       "        vertical-align: middle;\n",
       "    }\n",
       "\n",
       "    .dataframe tbody tr th {\n",
       "        vertical-align: top;\n",
       "    }\n",
       "\n",
       "    .dataframe thead th {\n",
       "        text-align: right;\n",
       "    }\n",
       "</style>\n",
       "<table border=\"1\" class=\"dataframe\">\n",
       "  <thead>\n",
       "    <tr style=\"text-align: right;\">\n",
       "      <th></th>\n",
       "      <th>snp500</th>\n",
       "      <th>3mon</th>\n",
       "      <th>10yr</th>\n",
       "    </tr>\n",
       "  </thead>\n",
       "  <tbody>\n",
       "    <tr>\n",
       "      <th>snp500</th>\n",
       "      <td>1.000000</td>\n",
       "      <td>-0.026551</td>\n",
       "      <td>-0.021517</td>\n",
       "    </tr>\n",
       "    <tr>\n",
       "      <th>3mon</th>\n",
       "      <td>-0.026551</td>\n",
       "      <td>1.000000</td>\n",
       "      <td>0.297581</td>\n",
       "    </tr>\n",
       "    <tr>\n",
       "      <th>10yr</th>\n",
       "      <td>-0.021517</td>\n",
       "      <td>0.297581</td>\n",
       "      <td>1.000000</td>\n",
       "    </tr>\n",
       "  </tbody>\n",
       "</table>\n",
       "</div>"
      ],
      "text/plain": [
       "          snp500      3mon      10yr\n",
       "snp500  1.000000 -0.026551 -0.021517\n",
       "3mon   -0.026551  1.000000  0.297581\n",
       "10yr   -0.021517  0.297581  1.000000"
      ]
     },
     "execution_count": 8,
     "metadata": {},
     "output_type": "execute_result"
    }
   ],
   "source": [
    "df.corr()"
   ]
  },
  {
   "cell_type": "markdown",
   "metadata": {},
   "source": [
    "# Calculate matrix with rolling 5-year returns"
   ]
  },
  {
   "cell_type": "markdown",
   "metadata": {},
   "source": [
    "For each year range,\n",
    "    - calculate the 5-year returns\n",
    "    - write the returns for the 5 years into a new row\n",
    "   \n",
    "Form quantiles for each column"
   ]
  },
  {
   "cell_type": "code",
   "execution_count": 9,
   "metadata": {},
   "outputs": [],
   "source": [
    "return_mat = np.zeros((params[\"year_end\"] - params[\"year_start\"] + 1 - params[\"year_step_size\"] + 1, 6))"
   ]
  },
  {
   "cell_type": "code",
   "execution_count": 10,
   "metadata": {
    "scrolled": true
   },
   "outputs": [
    {
     "name": "stdout",
     "output_type": "stream",
     "text": [
      "1928\n",
      "0\n",
      "1929\n",
      "1\n",
      "1930\n",
      "2\n",
      "1931\n",
      "3\n",
      "1932\n",
      "4\n",
      "1933\n",
      "5\n",
      "1934\n",
      "6\n",
      "1935\n",
      "7\n",
      "1936\n",
      "8\n",
      "1937\n",
      "9\n",
      "1938\n",
      "10\n",
      "1939\n",
      "11\n",
      "1940\n",
      "12\n",
      "1941\n",
      "13\n",
      "1942\n",
      "14\n",
      "1943\n",
      "15\n",
      "1944\n",
      "16\n",
      "1945\n",
      "17\n",
      "1946\n",
      "18\n",
      "1947\n",
      "19\n",
      "1948\n",
      "20\n",
      "1949\n",
      "21\n",
      "1950\n",
      "22\n",
      "1951\n",
      "23\n",
      "1952\n",
      "24\n",
      "1953\n",
      "25\n",
      "1954\n",
      "26\n",
      "1955\n",
      "27\n",
      "1956\n",
      "28\n",
      "1957\n",
      "29\n",
      "1958\n",
      "30\n",
      "1959\n",
      "31\n",
      "1960\n",
      "32\n",
      "1961\n",
      "33\n",
      "1962\n",
      "34\n",
      "1963\n",
      "35\n",
      "1964\n",
      "36\n",
      "1965\n",
      "37\n",
      "1966\n",
      "38\n",
      "1967\n",
      "39\n",
      "1968\n",
      "40\n",
      "1969\n",
      "41\n",
      "1970\n",
      "42\n",
      "1971\n",
      "43\n",
      "1972\n",
      "44\n",
      "1973\n",
      "45\n",
      "1974\n",
      "46\n",
      "1975\n",
      "47\n",
      "1976\n",
      "48\n",
      "1977\n",
      "49\n",
      "1978\n",
      "50\n",
      "1979\n",
      "51\n",
      "1980\n",
      "52\n",
      "1981\n",
      "53\n",
      "1982\n",
      "54\n",
      "1983\n",
      "55\n",
      "1984\n",
      "56\n",
      "1985\n",
      "57\n",
      "1986\n",
      "58\n",
      "1987\n",
      "59\n",
      "1988\n",
      "60\n",
      "1989\n",
      "61\n",
      "1990\n",
      "62\n",
      "1991\n",
      "63\n",
      "1992\n",
      "64\n",
      "1993\n",
      "65\n",
      "1994\n",
      "66\n",
      "1995\n",
      "67\n",
      "1996\n",
      "68\n",
      "1997\n",
      "69\n",
      "1998\n",
      "70\n",
      "1999\n",
      "71\n",
      "2000\n",
      "72\n",
      "2001\n",
      "73\n",
      "2002\n",
      "74\n",
      "2003\n",
      "75\n",
      "2004\n",
      "76\n",
      "2005\n",
      "77\n",
      "2006\n",
      "78\n",
      "2007\n",
      "79\n",
      "2008\n",
      "80\n",
      "2009\n",
      "81\n",
      "2010\n",
      "82\n",
      "2011\n",
      "83\n",
      "2012\n",
      "84\n",
      "2013\n",
      "85\n",
      "2014\n",
      "86\n"
     ]
    }
   ],
   "source": [
    "for first_year in range(params[\"year_start\"], params[\"year_end\"] + 1 - params[\"year_step_size\"] + 1):\n",
    "    print(first_year)\n",
    "    \n",
    "    end = first_year + params[\"year_step_size\"] - 1\n",
    "    df_returns = df_all_returns.loc[first_year:end, :]\n",
    "    df_cum_returns = (pd.DataFrame(data=get_cum_net_returns(df_returns.to_numpy()),\n",
    "                                   index=range(first_year, end + 1))\n",
    "                     )\n",
    "    df_cum_returns.columns = df_returns.columns\n",
    "    df_cum_returns_normalised = make_plot_df(df_cum_returns)\n",
    "    \n",
    "    row_idx = first_year - params[\"year_start\"]\n",
    "    print(row_idx)\n",
    "    return_mat[row_idx,:] = df_cum_returns_normalised[\"portfolio\"].to_numpy().round(2)"
   ]
  },
  {
   "cell_type": "code",
   "execution_count": 11,
   "metadata": {
    "scrolled": true
   },
   "outputs": [
    {
     "data": {
      "text/plain": [
       "(87, 6)"
      ]
     },
     "execution_count": 11,
     "metadata": {},
     "output_type": "execute_result"
    }
   ],
   "source": [
    "return_mat.shape"
   ]
  },
  {
   "cell_type": "markdown",
   "metadata": {},
   "source": [
    "# Check that all entries have been filled"
   ]
  },
  {
   "cell_type": "code",
   "execution_count": 12,
   "metadata": {},
   "outputs": [
    {
     "data": {
      "text/plain": [
       "(array([], dtype=int32), array([], dtype=int32))"
      ]
     },
     "execution_count": 12,
     "metadata": {},
     "output_type": "execute_result"
    }
   ],
   "source": [
    "np.where(return_mat == 0)"
   ]
  },
  {
   "cell_type": "markdown",
   "metadata": {},
   "source": [
    "# Sort matrix with returns"
   ]
  },
  {
   "cell_type": "code",
   "execution_count": 13,
   "metadata": {},
   "outputs": [],
   "source": [
    "for column in range(1, return_mat.shape[1]):\n",
    "    return_mat[:, column].sort()"
   ]
  },
  {
   "cell_type": "code",
   "execution_count": 14,
   "metadata": {},
   "outputs": [
    {
     "data": {
      "text/plain": [
       "array([[100.  ,  88.34,  85.8 ,  86.5 ,  88.66,  98.31],\n",
       "       [100.  ,  91.93,  90.55,  87.95,  97.  ,  99.43],\n",
       "       [100.  ,  95.82,  95.86,  97.72,  99.97, 100.78],\n",
       "       [100.  ,  96.46,  96.4 , 101.63, 102.61, 103.73],\n",
       "       [100.  ,  97.08,  97.92, 102.56, 103.6 , 111.48],\n",
       "       [100.  ,  97.13, 100.61, 102.92, 106.79, 113.39],\n",
       "       [100.  ,  97.31, 101.45, 103.23, 106.94, 113.42],\n",
       "       [100.  ,  99.55, 101.59, 104.14, 109.15, 113.99],\n",
       "       [100.  ,  99.94, 101.62, 108.5 , 109.36, 116.07],\n",
       "       [100.  , 100.04, 101.98, 108.96, 111.62, 120.72]])"
      ]
     },
     "execution_count": 14,
     "metadata": {},
     "output_type": "execute_result"
    }
   ],
   "source": [
    "return_mat[0:10,:]"
   ]
  },
  {
   "cell_type": "markdown",
   "metadata": {},
   "source": [
    "# Generate matrix with CI quantiles to plot"
   ]
  },
  {
   "cell_type": "code",
   "execution_count": 15,
   "metadata": {},
   "outputs": [
    {
     "data": {
      "text/plain": [
       "(87, 6)"
      ]
     },
     "execution_count": 15,
     "metadata": {},
     "output_type": "execute_result"
    }
   ],
   "source": [
    "return_mat.shape"
   ]
  },
  {
   "cell_type": "code",
   "execution_count": 16,
   "metadata": {},
   "outputs": [
    {
     "name": "stdout",
     "output_type": "stream",
     "text": [
      "0\n",
      "test\n",
      "1\n",
      "test2\n"
     ]
    }
   ],
   "source": [
    "for i,j in enumerate([\"test\", \"test2\"]):\n",
    "    print(i)\n",
    "    print(j)"
   ]
  },
  {
   "cell_type": "code",
   "execution_count": 17,
   "metadata": {},
   "outputs": [],
   "source": [
    "def make_quantile_mat(return_mat, quantiles):\n",
    "    \"\"\"Turn return matrix into quantile matrix.\"\"\"\n",
    "    n_periods = return_mat.shape[1]\n",
    "    n_quantiles = len(quantiles)\n",
    "    quantile_mat = np.zeros([n_quantiles, n_periods])\n",
    "    \n",
    "    for col_idx in range(quantile_mat.shape[1]): # iterate over columns \n",
    "        for counter, quantile in enumerate(quantiles):\n",
    "            quantile_mat[counter, col_idx] = np.quantile(return_mat[:,col_idx], quantile)\n",
    "    \n",
    "    return quantile_mat\n",
    "    "
   ]
  },
  {
   "cell_type": "code",
   "execution_count": 18,
   "metadata": {},
   "outputs": [],
   "source": [
    "quantiles = [0, 0.16, 0.5, 0.84, 1]\n",
    "quantile_mat=make_quantile_mat(return_mat, quantiles)"
   ]
  },
  {
   "cell_type": "code",
   "execution_count": 19,
   "metadata": {},
   "outputs": [],
   "source": [
    "df_quantile_mat = pd.DataFrame(data=quantile_mat, columns=[\"y0\", \"y1\", \"y2\", \"y3\", \"y4\", \"y5\"]) "
   ]
  },
  {
   "cell_type": "code",
   "execution_count": 20,
   "metadata": {},
   "outputs": [
    {
     "data": {
      "text/html": [
       "<div>\n",
       "<style scoped>\n",
       "    .dataframe tbody tr th:only-of-type {\n",
       "        vertical-align: middle;\n",
       "    }\n",
       "\n",
       "    .dataframe tbody tr th {\n",
       "        vertical-align: top;\n",
       "    }\n",
       "\n",
       "    .dataframe thead th {\n",
       "        text-align: right;\n",
       "    }\n",
       "</style>\n",
       "<table border=\"1\" class=\"dataframe\">\n",
       "  <thead>\n",
       "    <tr style=\"text-align: right;\">\n",
       "      <th></th>\n",
       "      <th>y0</th>\n",
       "      <th>y1</th>\n",
       "      <th>y2</th>\n",
       "      <th>y3</th>\n",
       "      <th>y4</th>\n",
       "      <th>y5</th>\n",
       "    </tr>\n",
       "  </thead>\n",
       "  <tbody>\n",
       "    <tr>\n",
       "      <th>0</th>\n",
       "      <td>100.0</td>\n",
       "      <td>88.3400</td>\n",
       "      <td>85.8000</td>\n",
       "      <td>86.5000</td>\n",
       "      <td>88.6600</td>\n",
       "      <td>98.3100</td>\n",
       "    </tr>\n",
       "    <tr>\n",
       "      <th>1</th>\n",
       "      <td>100.0</td>\n",
       "      <td>100.8008</td>\n",
       "      <td>103.2208</td>\n",
       "      <td>110.6504</td>\n",
       "      <td>115.9124</td>\n",
       "      <td>121.4356</td>\n",
       "    </tr>\n",
       "    <tr>\n",
       "      <th>2</th>\n",
       "      <td>100.0</td>\n",
       "      <td>106.5000</td>\n",
       "      <td>112.2500</td>\n",
       "      <td>118.0100</td>\n",
       "      <td>124.8000</td>\n",
       "      <td>130.2300</td>\n",
       "    </tr>\n",
       "    <tr>\n",
       "      <th>3</th>\n",
       "      <td>100.0</td>\n",
       "      <td>111.2356</td>\n",
       "      <td>121.4408</td>\n",
       "      <td>131.0852</td>\n",
       "      <td>145.6808</td>\n",
       "      <td>160.3248</td>\n",
       "    </tr>\n",
       "    <tr>\n",
       "      <th>4</th>\n",
       "      <td>100.0</td>\n",
       "      <td>124.2600</td>\n",
       "      <td>144.9300</td>\n",
       "      <td>160.5900</td>\n",
       "      <td>184.4100</td>\n",
       "      <td>218.1000</td>\n",
       "    </tr>\n",
       "  </tbody>\n",
       "</table>\n",
       "</div>"
      ],
      "text/plain": [
       "      y0        y1        y2        y3        y4        y5\n",
       "0  100.0   88.3400   85.8000   86.5000   88.6600   98.3100\n",
       "1  100.0  100.8008  103.2208  110.6504  115.9124  121.4356\n",
       "2  100.0  106.5000  112.2500  118.0100  124.8000  130.2300\n",
       "3  100.0  111.2356  121.4408  131.0852  145.6808  160.3248\n",
       "4  100.0  124.2600  144.9300  160.5900  184.4100  218.1000"
      ]
     },
     "execution_count": 20,
     "metadata": {},
     "output_type": "execute_result"
    }
   ],
   "source": [
    "df_quantile_mat"
   ]
  },
  {
   "cell_type": "markdown",
   "metadata": {},
   "source": [
    "# Plot CI graph"
   ]
  },
  {
   "cell_type": "code",
   "execution_count": 22,
   "metadata": {},
   "outputs": [],
   "source": [
    "ci_graph = make_confidence_interval_graph(df_quantile_mat)"
   ]
  },
  {
   "cell_type": "code",
   "execution_count": 23,
   "metadata": {},
   "outputs": [
    {
     "data": {
      "image/png": "[encoded data removed]",
      "text/plain": [
       "<Figure size 720x720 with 1 Axes>"
      ]
     },
     "execution_count": 23,
     "metadata": {},
     "output_type": "execute_result"
    }
   ],
   "source": [
    "ci_graph"
   ]
  },
  {
   "cell_type": "markdown",
   "metadata": {},
   "source": [
    "# TODO"
   ]
  },
  {
   "cell_type": "markdown",
   "metadata": {},
   "source": [
    "1. write docstring for make quantile map and move it to utils\n",
    "2. Refactor parameters file\n",
    "3. Make log-TS plots by asset class"
   ]
  }
 ],
 "metadata": {
  "kernelspec": {
   "display_name": "Python 3",
   "language": "python",
   "name": "python3"
  },
  "language_info": {
   "codemirror_mode": {
    "name": "ipython",
    "version": 3
   },
   "file_extension": ".py",
   "mimetype": "text/x-python",
   "name": "python",
   "nbconvert_exporter": "python",
   "pygments_lexer": "ipython3",
   "version": "3.5.2"
  }
 },
 "nbformat": 4,
 "nbformat_minor": 2
}
