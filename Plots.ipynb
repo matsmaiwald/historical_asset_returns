{
 "cells": [
  {
   "cell_type": "code",
   "execution_count": 9,
   "metadata": {},
   "outputs": [],
   "source": [
    "%matplotlib inline"
   ]
  },
  {
   "cell_type": "code",
   "execution_count": 10,
   "metadata": {},
   "outputs": [
    {
     "name": "stdout",
     "output_type": "stream",
     "text": [
      "The autoreload extension is already loaded. To reload it, use:\n",
      "  %reload_ext autoreload\n"
     ]
    }
   ],
   "source": [
    "%load_ext autoreload\n",
    "%autoreload 2"
   ]
  },
  {
   "cell_type": "code",
   "execution_count": 11,
   "metadata": {},
   "outputs": [],
   "source": [
    "import matplotlib.pyplot as plt"
   ]
  },
  {
   "cell_type": "code",
   "execution_count": 12,
   "metadata": {
    "scrolled": false
   },
   "outputs": [
    {
     "name": "stdout",
     "output_type": "stream",
     "text": [
      "1928 1932\n",
      "1933 1937\n",
      "1938 1942\n",
      "1943 1947\n",
      "1948 1952\n",
      "1953 1957\n",
      "1958 1962\n",
      "1963 1967\n",
      "1968 1972\n",
      "1973 1977\n",
      "1978 1982\n",
      "1983 1987\n",
      "1988 1992\n",
      "1993 1997\n",
      "1998 2002\n",
      "2003 2007\n",
      "2008 2012\n",
      "2013 2017\n"
     ]
    }
   ],
   "source": [
    "%run mvp.py"
   ]
  },
  {
   "cell_type": "code",
   "execution_count": 13,
   "metadata": {},
   "outputs": [
    {
     "data": {
      "application/vnd.plotly.v1+json": {
       "config": {
        "plotlyServerURL": "https://plot.ly"
       },
       "data": [
        {
         "mode": "lines",
         "name": "portfolio",
         "type": "scatter",
         "visible": false,
         "x": [
          1927,
          1928,
          1929,
          1930,
          1931,
          1932
         ],
         "y": [
          100,
          112.14249999999998,
          113.05646137500001,
          109.80891452200312,
          97.00244986587451,
          99.42993617376801
         ]
        },
        {
         "mode": "lines",
         "name": "portfolio",
         "type": "scatter",
         "visible": false,
         "x": [
          1932,
          1933,
          1934,
          1935,
          1936,
          1937
         ],
         "y": [
          100,
          113.66499999999999,
          117.941645625,
          134.41219643653127,
          148.57588163603074,
          136.58580798800307
         ]
        },
        {
         "mode": "lines",
         "name": "portfolio",
         "type": "scatter",
         "visible": false,
         "x": [
          1937,
          1938,
          1939,
          1940,
          1941,
          1942
         ],
         "y": [
          100,
          109.445,
          111.568233,
          111.61286029320001,
          106.94465241143692,
          113.38539410291571
         ]
        },
        {
         "mode": "lines",
         "name": "portfolio",
         "type": "scatter",
         "visible": false,
         "x": [
          1942,
          1943,
          1944,
          1945,
          1946,
          1947
         ],
         "y": [
          100,
          107.60499999999999,
          114.214637125,
          126.7211398901875,
          126.15406278917891,
          128.55414383374304
         ]
        },
        {
         "mode": "lines",
         "name": "portfolio",
         "type": "scatter",
         "visible": false,
         "x": [
          1947,
          1948,
          1949,
          1950,
          1951,
          1952
         ],
         "y": [
          100,
          102.655,
          110.02562900000001,
          119.05873314090003,
          126.36893935575128,
          134.06480776251652
         ]
        },
        {
         "mode": "lines",
         "name": "portfolio",
         "type": "scatter",
         "visible": false,
         "x": [
          1952,
          1953,
          1954,
          1955,
          1956,
          1957
         ],
         "y": [
          100,
          102.24,
          117.60155999999999,
          126.88620316200002,
          128.62454414531942,
          130.6728900108336
         ]
        },
        {
         "mode": "lines",
         "name": "portfolio",
         "type": "scatter",
         "visible": false,
         "x": [
          1957,
          1958,
          1959,
          1960,
          1961,
          1962
         ],
         "y": [
          100,
          110.325,
          113.08864125,
          120.62882640534376,
          130.58975174576503,
          132.33638967536464
         ]
        },
        {
         "mode": "lines",
         "name": "portfolio",
         "type": "scatter",
         "visible": false,
         "x": [
          1962,
          1963,
          1964,
          1965,
          1966,
          1967
         ],
         "y": [
          100,
          107.27,
          114.61531325,
          119.69850239263752,
          119.90498230926482,
          127.39005082992068
         ]
        },
        {
         "mode": "lines",
         "name": "portfolio",
         "type": "scatter",
         "visible": false,
         "x": [
          1967,
          1968,
          1969,
          1970,
          1971,
          1972
         ],
         "y": [
          100,
          105.65249999999999,
          102.56216437499998,
          113.77990110351561,
          124.68570462428758,
          133.522803939534
         ]
        },
        {
         "mode": "lines",
         "name": "portfolio",
         "type": "scatter",
         "visible": false,
         "x": [
          1972,
          1973,
          1974,
          1975,
          1976,
          1977
         ],
         "y": [
          100,
          99.935,
          96.40229775,
          108.50319617506877,
          124.9848316740617,
          125.21292899186685
         ]
        },
        {
         "mode": "lines",
         "name": "portfolio",
         "type": "scatter",
         "visible": false,
         "x": [
          1977,
          1978,
          1979,
          1980,
          1981,
          1982
         ],
         "y": [
          100,
          102.97,
          110.641265,
          120.87004994924999,
          128.72660319595124,
          159.95889529636892
         ]
        },
        {
         "mode": "lines",
         "name": "portfolio",
         "type": "scatter",
         "visible": false,
         "x": [
          1982,
          1983,
          1984,
          1985,
          1986,
          1987
         ],
         "y": [
          100,
          109.2975,
          121.107094875,
          148.40160638245314,
          175.5182899086869,
          176.22475102556936
         ]
        },
        {
         "mode": "lines",
         "name": "portfolio",
         "type": "scatter",
         "visible": false,
         "x": [
          1987,
          1988,
          1989,
          1990,
          1991,
          1992
         ],
         "y": [
          100,
          109.8575,
          130.4475419375,
          135.98177890419845,
          158.36437971182954,
          170.0912620294905
         ]
        },
        {
         "mode": "lines",
         "name": "portfolio",
         "type": "scatter",
         "visible": false,
         "x": [
          1992,
          1993,
          1994,
          1995,
          1996,
          1997
         ],
         "y": [
          100,
          110.34250000000002,
          107.37428675000001,
          131.44760183935,
          141.49019861987634,
          162.0168891846549
         ]
        },
        {
         "mode": "lines",
         "name": "portfolio",
         "type": "scatter",
         "visible": false,
         "x": [
          1997,
          1998,
          1999,
          2000,
          2001,
          2002
         ],
         "y": [
          100,
          115.7275,
          118.30243687500001,
          127.18990744523437,
          128.1311127603291,
          131.3119676346043
         ]
        },
        {
         "mode": "lines",
         "name": "portfolio",
         "type": "scatter",
         "visible": false,
         "x": [
          2002,
          2003,
          2004,
          2005,
          2006,
          2007
         ],
         "y": [
          100,
          107.5375,
          113.1697765625,
          117.01189047679688,
          124.094035147905,
          133.56861473144755
         ]
        },
        {
         "mode": "lines",
         "name": "portfolio",
         "type": "scatter",
         "visible": false,
         "x": [
          2007,
          2008,
          2009,
          2010,
          2011,
          2012
         ],
         "y": [
          100,
          101.31000000000002,
          102.28257600000002,
          110.43194024280001,
          119.87663193206548,
          126.43388369874945
         ]
        },
        {
         "mode": "lines",
         "name": "portfolio",
         "type": "scatter",
         "visible": false,
         "x": [
          2012,
          2013,
          2014,
          2015,
          2016,
          2017
         ],
         "y": [
          100,
          103.505,
          112.57980087499999,
          113.7478163090781,
          117.63230423603312,
          126.0430139889095
         ]
        }
       ],
       "layout": {
        "showlegend": true,
        "template": {
         "data": {
          "bar": [
           {
            "error_x": {
             "color": "#2a3f5f"
            },
            "error_y": {
             "color": "#2a3f5f"
            },
            "marker": {
             "line": {
              "color": "#E5ECF6",
              "width": 0.5
             }
            },
            "type": "bar"
           }
          ],
          "barpolar": [
           {
            "marker": {
             "line": {
              "color": "#E5ECF6",
              "width": 0.5
             }
            },
            "type": "barpolar"
           }
          ],
          "carpet": [
           {
            "aaxis": {
             "endlinecolor": "#2a3f5f",
             "gridcolor": "white",
             "linecolor": "white",
             "minorgridcolor": "white",
             "startlinecolor": "#2a3f5f"
            },
            "baxis": {
             "endlinecolor": "#2a3f5f",
             "gridcolor": "white",
             "linecolor": "white",
             "minorgridcolor": "white",
             "startlinecolor": "#2a3f5f"
            },
            "type": "carpet"
           }
          ],
          "choropleth": [
           {
            "colorbar": {
             "outlinewidth": 0,
             "ticks": ""
            },
            "type": "choropleth"
           }
          ],
          "contour": [
           {
            "colorbar": {
             "outlinewidth": 0,
             "ticks": ""
            },
            "colorscale": [
             [
              0,
              "#0d0887"
             ],
             [
              0.1111111111111111,
              "#46039f"
             ],
             [
              0.2222222222222222,
              "#7201a8"
             ],
             [
              0.3333333333333333,
              "#9c179e"
             ],
             [
              0.4444444444444444,
              "#bd3786"
             ],
             [
              0.5555555555555556,
              "#d8576b"
             ],
             [
              0.6666666666666666,
              "#ed7953"
             ],
             [
              0.7777777777777778,
              "#fb9f3a"
             ],
             [
              0.8888888888888888,
              "#fdca26"
             ],
             [
              1,
              "#f0f921"
             ]
            ],
            "type": "contour"
           }
          ],
          "contourcarpet": [
           {
            "colorbar": {
             "outlinewidth": 0,
             "ticks": ""
            },
            "type": "contourcarpet"
           }
          ],
          "heatmap": [
           {
            "colorbar": {
             "outlinewidth": 0,
             "ticks": ""
            },
            "colorscale": [
             [
              0,
              "#0d0887"
             ],
             [
              0.1111111111111111,
              "#46039f"
             ],
             [
              0.2222222222222222,
              "#7201a8"
             ],
             [
              0.3333333333333333,
              "#9c179e"
             ],
             [
              0.4444444444444444,
              "#bd3786"
             ],
             [
              0.5555555555555556,
              "#d8576b"
             ],
             [
              0.6666666666666666,
              "#ed7953"
             ],
             [
              0.7777777777777778,
              "#fb9f3a"
             ],
             [
              0.8888888888888888,
              "#fdca26"
             ],
             [
              1,
              "#f0f921"
             ]
            ],
            "type": "heatmap"
           }
          ],
          "heatmapgl": [
           {
            "colorbar": {
             "outlinewidth": 0,
             "ticks": ""
            },
            "colorscale": [
             [
              0,
              "#0d0887"
             ],
             [
              0.1111111111111111,
              "#46039f"
             ],
             [
              0.2222222222222222,
              "#7201a8"
             ],
             [
              0.3333333333333333,
              "#9c179e"
             ],
             [
              0.4444444444444444,
              "#bd3786"
             ],
             [
              0.5555555555555556,
              "#d8576b"
             ],
             [
              0.6666666666666666,
              "#ed7953"
             ],
             [
              0.7777777777777778,
              "#fb9f3a"
             ],
             [
              0.8888888888888888,
              "#fdca26"
             ],
             [
              1,
              "#f0f921"
             ]
            ],
            "type": "heatmapgl"
           }
          ],
          "histogram": [
           {
            "marker": {
             "colorbar": {
              "outlinewidth": 0,
              "ticks": ""
             }
            },
            "type": "histogram"
           }
          ],
          "histogram2d": [
           {
            "colorbar": {
             "outlinewidth": 0,
             "ticks": ""
            },
            "colorscale": [
             [
              0,
              "#0d0887"
             ],
             [
              0.1111111111111111,
              "#46039f"
             ],
             [
              0.2222222222222222,
              "#7201a8"
             ],
             [
              0.3333333333333333,
              "#9c179e"
             ],
             [
              0.4444444444444444,
              "#bd3786"
             ],
             [
              0.5555555555555556,
              "#d8576b"
             ],
             [
              0.6666666666666666,
              "#ed7953"
             ],
             [
              0.7777777777777778,
              "#fb9f3a"
             ],
             [
              0.8888888888888888,
              "#fdca26"
             ],
             [
              1,
              "#f0f921"
             ]
            ],
            "type": "histogram2d"
           }
          ],
          "histogram2dcontour": [
           {
            "colorbar": {
             "outlinewidth": 0,
             "ticks": ""
            },
            "colorscale": [
             [
              0,
              "#0d0887"
             ],
             [
              0.1111111111111111,
              "#46039f"
             ],
             [
              0.2222222222222222,
              "#7201a8"
             ],
             [
              0.3333333333333333,
              "#9c179e"
             ],
             [
              0.4444444444444444,
              "#bd3786"
             ],
             [
              0.5555555555555556,
              "#d8576b"
             ],
             [
              0.6666666666666666,
              "#ed7953"
             ],
             [
              0.7777777777777778,
              "#fb9f3a"
             ],
             [
              0.8888888888888888,
              "#fdca26"
             ],
             [
              1,
              "#f0f921"
             ]
            ],
            "type": "histogram2dcontour"
           }
          ],
          "mesh3d": [
           {
            "colorbar": {
             "outlinewidth": 0,
             "ticks": ""
            },
            "type": "mesh3d"
           }
          ],
          "parcoords": [
           {
            "line": {
             "colorbar": {
              "outlinewidth": 0,
              "ticks": ""
             }
            },
            "type": "parcoords"
           }
          ],
          "pie": [
           {
            "automargin": true,
            "type": "pie"
           }
          ],
          "scatter": [
           {
            "marker": {
             "colorbar": {
              "outlinewidth": 0,
              "ticks": ""
             }
            },
            "type": "scatter"
           }
          ],
          "scatter3d": [
           {
            "line": {
             "colorbar": {
              "outlinewidth": 0,
              "ticks": ""
             }
            },
            "marker": {
             "colorbar": {
              "outlinewidth": 0,
              "ticks": ""
             }
            },
            "type": "scatter3d"
           }
          ],
          "scattercarpet": [
           {
            "marker": {
             "colorbar": {
              "outlinewidth": 0,
              "ticks": ""
             }
            },
            "type": "scattercarpet"
           }
          ],
          "scattergeo": [
           {
            "marker": {
             "colorbar": {
              "outlinewidth": 0,
              "ticks": ""
             }
            },
            "type": "scattergeo"
           }
          ],
          "scattergl": [
           {
            "marker": {
             "colorbar": {
              "outlinewidth": 0,
              "ticks": ""
             }
            },
            "type": "scattergl"
           }
          ],
          "scattermapbox": [
           {
            "marker": {
             "colorbar": {
              "outlinewidth": 0,
              "ticks": ""
             }
            },
            "type": "scattermapbox"
           }
          ],
          "scatterpolar": [
           {
            "marker": {
             "colorbar": {
              "outlinewidth": 0,
              "ticks": ""
             }
            },
            "type": "scatterpolar"
           }
          ],
          "scatterpolargl": [
           {
            "marker": {
             "colorbar": {
              "outlinewidth": 0,
              "ticks": ""
             }
            },
            "type": "scatterpolargl"
           }
          ],
          "scatterternary": [
           {
            "marker": {
             "colorbar": {
              "outlinewidth": 0,
              "ticks": ""
             }
            },
            "type": "scatterternary"
           }
          ],
          "surface": [
           {
            "colorbar": {
             "outlinewidth": 0,
             "ticks": ""
            },
            "colorscale": [
             [
              0,
              "#0d0887"
             ],
             [
              0.1111111111111111,
              "#46039f"
             ],
             [
              0.2222222222222222,
              "#7201a8"
             ],
             [
              0.3333333333333333,
              "#9c179e"
             ],
             [
              0.4444444444444444,
              "#bd3786"
             ],
             [
              0.5555555555555556,
              "#d8576b"
             ],
             [
              0.6666666666666666,
              "#ed7953"
             ],
             [
              0.7777777777777778,
              "#fb9f3a"
             ],
             [
              0.8888888888888888,
              "#fdca26"
             ],
             [
              1,
              "#f0f921"
             ]
            ],
            "type": "surface"
           }
          ],
          "table": [
           {
            "cells": {
             "fill": {
              "color": "#EBF0F8"
             },
             "line": {
              "color": "white"
             }
            },
            "header": {
             "fill": {
              "color": "#C8D4E3"
             },
             "line": {
              "color": "white"
             }
            },
            "type": "table"
           }
          ]
         },
         "layout": {
          "annotationdefaults": {
           "arrowcolor": "#2a3f5f",
           "arrowhead": 0,
           "arrowwidth": 1
          },
          "coloraxis": {
           "colorbar": {
            "outlinewidth": 0,
            "ticks": ""
           }
          },
          "colorscale": {
           "diverging": [
            [
             0,
             "#8e0152"
            ],
            [
             0.1,
             "#c51b7d"
            ],
            [
             0.2,
             "#de77ae"
            ],
            [
             0.3,
             "#f1b6da"
            ],
            [
             0.4,
             "#fde0ef"
            ],
            [
             0.5,
             "#f7f7f7"
            ],
            [
             0.6,
             "#e6f5d0"
            ],
            [
             0.7,
             "#b8e186"
            ],
            [
             0.8,
             "#7fbc41"
            ],
            [
             0.9,
             "#4d9221"
            ],
            [
             1,
             "#276419"
            ]
           ],
           "sequential": [
            [
             0,
             "#0d0887"
            ],
            [
             0.1111111111111111,
             "#46039f"
            ],
            [
             0.2222222222222222,
             "#7201a8"
            ],
            [
             0.3333333333333333,
             "#9c179e"
            ],
            [
             0.4444444444444444,
             "#bd3786"
            ],
            [
             0.5555555555555556,
             "#d8576b"
            ],
            [
             0.6666666666666666,
             "#ed7953"
            ],
            [
             0.7777777777777778,
             "#fb9f3a"
            ],
            [
             0.8888888888888888,
             "#fdca26"
            ],
            [
             1,
             "#f0f921"
            ]
           ],
           "sequentialminus": [
            [
             0,
             "#0d0887"
            ],
            [
             0.1111111111111111,
             "#46039f"
            ],
            [
             0.2222222222222222,
             "#7201a8"
            ],
            [
             0.3333333333333333,
             "#9c179e"
            ],
            [
             0.4444444444444444,
             "#bd3786"
            ],
            [
             0.5555555555555556,
             "#d8576b"
            ],
            [
             0.6666666666666666,
             "#ed7953"
            ],
            [
             0.7777777777777778,
             "#fb9f3a"
            ],
            [
             0.8888888888888888,
             "#fdca26"
            ],
            [
             1,
             "#f0f921"
            ]
           ]
          },
          "colorway": [
           "#636efa",
           "#EF553B",
           "#00cc96",
           "#ab63fa",
           "#FFA15A",
           "#19d3f3",
           "#FF6692",
           "#B6E880",
           "#FF97FF",
           "#FECB52"
          ],
          "font": {
           "color": "#2a3f5f"
          },
          "geo": {
           "bgcolor": "white",
           "lakecolor": "white",
           "landcolor": "#E5ECF6",
           "showlakes": true,
           "showland": true,
           "subunitcolor": "white"
          },
          "hoverlabel": {
           "align": "left"
          },
          "hovermode": "closest",
          "mapbox": {
           "style": "light"
          },
          "paper_bgcolor": "white",
          "plot_bgcolor": "#E5ECF6",
          "polar": {
           "angularaxis": {
            "gridcolor": "white",
            "linecolor": "white",
            "ticks": ""
           },
           "bgcolor": "#E5ECF6",
           "radialaxis": {
            "gridcolor": "white",
            "linecolor": "white",
            "ticks": ""
           }
          },
          "scene": {
           "xaxis": {
            "backgroundcolor": "#E5ECF6",
            "gridcolor": "white",
            "gridwidth": 2,
            "linecolor": "white",
            "showbackground": true,
            "ticks": "",
            "zerolinecolor": "white"
           },
           "yaxis": {
            "backgroundcolor": "#E5ECF6",
            "gridcolor": "white",
            "gridwidth": 2,
            "linecolor": "white",
            "showbackground": true,
            "ticks": "",
            "zerolinecolor": "white"
           },
           "zaxis": {
            "backgroundcolor": "#E5ECF6",
            "gridcolor": "white",
            "gridwidth": 2,
            "linecolor": "white",
            "showbackground": true,
            "ticks": "",
            "zerolinecolor": "white"
           }
          },
          "shapedefaults": {
           "line": {
            "color": "#2a3f5f"
           }
          },
          "ternary": {
           "aaxis": {
            "gridcolor": "white",
            "linecolor": "white",
            "ticks": ""
           },
           "baxis": {
            "gridcolor": "white",
            "linecolor": "white",
            "ticks": ""
           },
           "bgcolor": "#E5ECF6",
           "caxis": {
            "gridcolor": "white",
            "linecolor": "white",
            "ticks": ""
           }
          },
          "title": {
           "x": 0.05
          },
          "xaxis": {
           "automargin": true,
           "gridcolor": "white",
           "linecolor": "white",
           "ticks": "",
           "title": {
            "standoff": 15
           },
           "zerolinecolor": "white",
           "zerolinewidth": 2
          },
          "yaxis": {
           "automargin": true,
           "gridcolor": "white",
           "linecolor": "white",
           "ticks": "",
           "title": {
            "standoff": 15
           },
           "zerolinecolor": "white",
           "zerolinewidth": 2
          }
         }
        },
        "title": {
         "text": "Cumulative Returns"
        },
        "updatemenus": [
         {
          "active": -1,
          "buttons": [
           {
            "args": [
             {
              "visible": [
               true,
               false,
               false,
               false,
               false,
               false,
               false,
               false,
               false,
               false,
               false,
               false,
               false,
               false,
               false,
               false,
               false,
               false,
               false
              ]
             },
             {
              "title": 1928
             }
            ],
            "label": "1928",
            "method": "update"
           },
           {
            "args": [
             {
              "visible": [
               false,
               true,
               false,
               false,
               false,
               false,
               false,
               false,
               false,
               false,
               false,
               false,
               false,
               false,
               false,
               false,
               false,
               false,
               false
              ]
             },
             {
              "title": 1933
             }
            ],
            "label": "1933",
            "method": "update"
           },
           {
            "args": [
             {
              "visible": [
               false,
               false,
               true,
               false,
               false,
               false,
               false,
               false,
               false,
               false,
               false,
               false,
               false,
               false,
               false,
               false,
               false,
               false,
               false
              ]
             },
             {
              "title": 1938
             }
            ],
            "label": "1938",
            "method": "update"
           },
           {
            "args": [
             {
              "visible": [
               false,
               false,
               false,
               true,
               false,
               false,
               false,
               false,
               false,
               false,
               false,
               false,
               false,
               false,
               false,
               false,
               false,
               false,
               false
              ]
             },
             {
              "title": 1943
             }
            ],
            "label": "1943",
            "method": "update"
           },
           {
            "args": [
             {
              "visible": [
               false,
               false,
               false,
               false,
               true,
               false,
               false,
               false,
               false,
               false,
               false,
               false,
               false,
               false,
               false,
               false,
               false,
               false,
               false
              ]
             },
             {
              "title": 1948
             }
            ],
            "label": "1948",
            "method": "update"
           },
           {
            "args": [
             {
              "visible": [
               false,
               false,
               false,
               false,
               false,
               true,
               false,
               false,
               false,
               false,
               false,
               false,
               false,
               false,
               false,
               false,
               false,
               false,
               false
              ]
             },
             {
              "title": 1953
             }
            ],
            "label": "1953",
            "method": "update"
           },
           {
            "args": [
             {
              "visible": [
               false,
               false,
               false,
               false,
               false,
               false,
               true,
               false,
               false,
               false,
               false,
               false,
               false,
               false,
               false,
               false,
               false,
               false,
               false
              ]
             },
             {
              "title": 1958
             }
            ],
            "label": "1958",
            "method": "update"
           },
           {
            "args": [
             {
              "visible": [
               false,
               false,
               false,
               false,
               false,
               false,
               false,
               true,
               false,
               false,
               false,
               false,
               false,
               false,
               false,
               false,
               false,
               false,
               false
              ]
             },
             {
              "title": 1963
             }
            ],
            "label": "1963",
            "method": "update"
           },
           {
            "args": [
             {
              "visible": [
               false,
               false,
               false,
               false,
               false,
               false,
               false,
               false,
               true,
               false,
               false,
               false,
               false,
               false,
               false,
               false,
               false,
               false,
               false
              ]
             },
             {
              "title": 1968
             }
            ],
            "label": "1968",
            "method": "update"
           },
           {
            "args": [
             {
              "visible": [
               false,
               false,
               false,
               false,
               false,
               false,
               false,
               false,
               false,
               true,
               false,
               false,
               false,
               false,
               false,
               false,
               false,
               false,
               false
              ]
             },
             {
              "title": 1973
             }
            ],
            "label": "1973",
            "method": "update"
           },
           {
            "args": [
             {
              "visible": [
               false,
               false,
               false,
               false,
               false,
               false,
               false,
               false,
               false,
               false,
               true,
               false,
               false,
               false,
               false,
               false,
               false,
               false,
               false
              ]
             },
             {
              "title": 1978
             }
            ],
            "label": "1978",
            "method": "update"
           },
           {
            "args": [
             {
              "visible": [
               false,
               false,
               false,
               false,
               false,
               false,
               false,
               false,
               false,
               false,
               false,
               true,
               false,
               false,
               false,
               false,
               false,
               false,
               false
              ]
             },
             {
              "title": 1983
             }
            ],
            "label": "1983",
            "method": "update"
           },
           {
            "args": [
             {
              "visible": [
               false,
               false,
               false,
               false,
               false,
               false,
               false,
               false,
               false,
               false,
               false,
               false,
               true,
               false,
               false,
               false,
               false,
               false,
               false
              ]
             },
             {
              "title": 1988
             }
            ],
            "label": "1988",
            "method": "update"
           },
           {
            "args": [
             {
              "visible": [
               false,
               false,
               false,
               false,
               false,
               false,
               false,
               false,
               false,
               false,
               false,
               false,
               false,
               true,
               false,
               false,
               false,
               false,
               false
              ]
             },
             {
              "title": 1993
             }
            ],
            "label": "1993",
            "method": "update"
           },
           {
            "args": [
             {
              "visible": [
               false,
               false,
               false,
               false,
               false,
               false,
               false,
               false,
               false,
               false,
               false,
               false,
               false,
               false,
               true,
               false,
               false,
               false,
               false
              ]
             },
             {
              "title": 1998
             }
            ],
            "label": "1998",
            "method": "update"
           },
           {
            "args": [
             {
              "visible": [
               false,
               false,
               false,
               false,
               false,
               false,
               false,
               false,
               false,
               false,
               false,
               false,
               false,
               false,
               false,
               true,
               false,
               false,
               false
              ]
             },
             {
              "title": 2003
             }
            ],
            "label": "2003",
            "method": "update"
           },
           {
            "args": [
             {
              "visible": [
               false,
               false,
               false,
               false,
               false,
               false,
               false,
               false,
               false,
               false,
               false,
               false,
               false,
               false,
               false,
               false,
               true,
               false,
               false
              ]
             },
             {
              "title": 2008
             }
            ],
            "label": "2008",
            "method": "update"
           },
           {
            "args": [
             {
              "visible": [
               false,
               false,
               false,
               false,
               false,
               false,
               false,
               false,
               false,
               false,
               false,
               false,
               false,
               false,
               false,
               false,
               false,
               true,
               false
              ]
             },
             {
              "title": 2013
             }
            ],
            "label": "2013",
            "method": "update"
           }
          ]
         }
        ]
       }
      },
      "text/html": [
       "<div>\n",
       "        \n",
       "        \n",
       "            <div id=\"8e309c17-d862-4a82-9b97-ac0000d74bfc\" class=\"plotly-graph-div\" style=\"height:525px; width:100%;\"></div>\n",
       "            <script type=\"text/javascript\">\n",
       "                require([\"plotly\"], function(Plotly) {\n",
       "                    window.PLOTLYENV=window.PLOTLYENV || {};\n",
       "                    \n",
       "                if (document.getElementById(\"8e309c17-d862-4a82-9b97-ac0000d74bfc\")) {\n",
       "                    Plotly.newPlot(\n",
       "                        '8e309c17-d862-4a82-9b97-ac0000d74bfc',\n",
       "                        [{\"mode\": \"lines\", \"name\": \"portfolio\", \"type\": \"scatter\", \"visible\": false, \"x\": [1927, 1928, 1929, 1930, 1931, 1932], \"y\": [100.0, 112.14249999999998, 113.05646137500001, 109.80891452200312, 97.00244986587451, 99.42993617376801]}, {\"mode\": \"lines\", \"name\": \"portfolio\", \"type\": \"scatter\", \"visible\": false, \"x\": [1932, 1933, 1934, 1935, 1936, 1937], \"y\": [100.0, 113.66499999999999, 117.941645625, 134.41219643653127, 148.57588163603074, 136.58580798800307]}, {\"mode\": \"lines\", \"name\": \"portfolio\", \"type\": \"scatter\", \"visible\": false, \"x\": [1937, 1938, 1939, 1940, 1941, 1942], \"y\": [100.0, 109.445, 111.568233, 111.61286029320001, 106.94465241143692, 113.38539410291571]}, {\"mode\": \"lines\", \"name\": \"portfolio\", \"type\": \"scatter\", \"visible\": false, \"x\": [1942, 1943, 1944, 1945, 1946, 1947], \"y\": [100.0, 107.60499999999999, 114.214637125, 126.7211398901875, 126.15406278917891, 128.55414383374304]}, {\"mode\": \"lines\", \"name\": \"portfolio\", \"type\": \"scatter\", \"visible\": false, \"x\": [1947, 1948, 1949, 1950, 1951, 1952], \"y\": [100.0, 102.655, 110.02562900000001, 119.05873314090003, 126.36893935575128, 134.06480776251652]}, {\"mode\": \"lines\", \"name\": \"portfolio\", \"type\": \"scatter\", \"visible\": false, \"x\": [1952, 1953, 1954, 1955, 1956, 1957], \"y\": [100.0, 102.24, 117.60155999999999, 126.88620316200002, 128.62454414531942, 130.6728900108336]}, {\"mode\": \"lines\", \"name\": \"portfolio\", \"type\": \"scatter\", \"visible\": false, \"x\": [1957, 1958, 1959, 1960, 1961, 1962], \"y\": [100.0, 110.325, 113.08864125, 120.62882640534376, 130.58975174576503, 132.33638967536464]}, {\"mode\": \"lines\", \"name\": \"portfolio\", \"type\": \"scatter\", \"visible\": false, \"x\": [1962, 1963, 1964, 1965, 1966, 1967], \"y\": [100.0, 107.27, 114.61531325, 119.69850239263752, 119.90498230926482, 127.39005082992068]}, {\"mode\": \"lines\", \"name\": \"portfolio\", \"type\": \"scatter\", \"visible\": false, \"x\": [1967, 1968, 1969, 1970, 1971, 1972], \"y\": [100.0, 105.65249999999999, 102.56216437499998, 113.77990110351561, 124.68570462428758, 133.522803939534]}, {\"mode\": \"lines\", \"name\": \"portfolio\", \"type\": \"scatter\", \"visible\": false, \"x\": [1972, 1973, 1974, 1975, 1976, 1977], \"y\": [100.0, 99.935, 96.40229775, 108.50319617506877, 124.9848316740617, 125.21292899186685]}, {\"mode\": \"lines\", \"name\": \"portfolio\", \"type\": \"scatter\", \"visible\": false, \"x\": [1977, 1978, 1979, 1980, 1981, 1982], \"y\": [100.0, 102.97, 110.641265, 120.87004994924999, 128.72660319595124, 159.95889529636892]}, {\"mode\": \"lines\", \"name\": \"portfolio\", \"type\": \"scatter\", \"visible\": false, \"x\": [1982, 1983, 1984, 1985, 1986, 1987], \"y\": [100.0, 109.2975, 121.107094875, 148.40160638245314, 175.5182899086869, 176.22475102556936]}, {\"mode\": \"lines\", \"name\": \"portfolio\", \"type\": \"scatter\", \"visible\": false, \"x\": [1987, 1988, 1989, 1990, 1991, 1992], \"y\": [100.0, 109.8575, 130.4475419375, 135.98177890419845, 158.36437971182954, 170.0912620294905]}, {\"mode\": \"lines\", \"name\": \"portfolio\", \"type\": \"scatter\", \"visible\": false, \"x\": [1992, 1993, 1994, 1995, 1996, 1997], \"y\": [100.0, 110.34250000000002, 107.37428675000001, 131.44760183935, 141.49019861987634, 162.0168891846549]}, {\"mode\": \"lines\", \"name\": \"portfolio\", \"type\": \"scatter\", \"visible\": false, \"x\": [1997, 1998, 1999, 2000, 2001, 2002], \"y\": [100.0, 115.7275, 118.30243687500001, 127.18990744523437, 128.1311127603291, 131.3119676346043]}, {\"mode\": \"lines\", \"name\": \"portfolio\", \"type\": \"scatter\", \"visible\": false, \"x\": [2002, 2003, 2004, 2005, 2006, 2007], \"y\": [100.0, 107.5375, 113.1697765625, 117.01189047679688, 124.094035147905, 133.56861473144755]}, {\"mode\": \"lines\", \"name\": \"portfolio\", \"type\": \"scatter\", \"visible\": false, \"x\": [2007, 2008, 2009, 2010, 2011, 2012], \"y\": [100.0, 101.31000000000002, 102.28257600000002, 110.43194024280001, 119.87663193206548, 126.43388369874945]}, {\"mode\": \"lines\", \"name\": \"portfolio\", \"type\": \"scatter\", \"visible\": false, \"x\": [2012, 2013, 2014, 2015, 2016, 2017], \"y\": [100.0, 103.505, 112.57980087499999, 113.7478163090781, 117.63230423603312, 126.0430139889095]}],\n",
       "                        {\"showlegend\": true, \"template\": {\"data\": {\"bar\": [{\"error_x\": {\"color\": \"#2a3f5f\"}, \"error_y\": {\"color\": \"#2a3f5f\"}, \"marker\": {\"line\": {\"color\": \"#E5ECF6\", \"width\": 0.5}}, \"type\": \"bar\"}], \"barpolar\": [{\"marker\": {\"line\": {\"color\": \"#E5ECF6\", \"width\": 0.5}}, \"type\": \"barpolar\"}], \"carpet\": [{\"aaxis\": {\"endlinecolor\": \"#2a3f5f\", \"gridcolor\": \"white\", \"linecolor\": \"white\", \"minorgridcolor\": \"white\", \"startlinecolor\": \"#2a3f5f\"}, \"baxis\": {\"endlinecolor\": \"#2a3f5f\", \"gridcolor\": \"white\", \"linecolor\": \"white\", \"minorgridcolor\": \"white\", \"startlinecolor\": \"#2a3f5f\"}, \"type\": \"carpet\"}], \"choropleth\": [{\"colorbar\": {\"outlinewidth\": 0, \"ticks\": \"\"}, \"type\": \"choropleth\"}], \"contour\": [{\"colorbar\": {\"outlinewidth\": 0, \"ticks\": \"\"}, \"colorscale\": [[0.0, \"#0d0887\"], [0.1111111111111111, \"#46039f\"], [0.2222222222222222, \"#7201a8\"], [0.3333333333333333, \"#9c179e\"], [0.4444444444444444, \"#bd3786\"], [0.5555555555555556, \"#d8576b\"], [0.6666666666666666, \"#ed7953\"], [0.7777777777777778, \"#fb9f3a\"], [0.8888888888888888, \"#fdca26\"], [1.0, \"#f0f921\"]], \"type\": \"contour\"}], \"contourcarpet\": [{\"colorbar\": {\"outlinewidth\": 0, \"ticks\": \"\"}, \"type\": \"contourcarpet\"}], \"heatmap\": [{\"colorbar\": {\"outlinewidth\": 0, \"ticks\": \"\"}, \"colorscale\": [[0.0, \"#0d0887\"], [0.1111111111111111, \"#46039f\"], [0.2222222222222222, \"#7201a8\"], [0.3333333333333333, \"#9c179e\"], [0.4444444444444444, \"#bd3786\"], [0.5555555555555556, \"#d8576b\"], [0.6666666666666666, \"#ed7953\"], [0.7777777777777778, \"#fb9f3a\"], [0.8888888888888888, \"#fdca26\"], [1.0, \"#f0f921\"]], \"type\": \"heatmap\"}], \"heatmapgl\": [{\"colorbar\": {\"outlinewidth\": 0, \"ticks\": \"\"}, \"colorscale\": [[0.0, \"#0d0887\"], [0.1111111111111111, \"#46039f\"], [0.2222222222222222, \"#7201a8\"], [0.3333333333333333, \"#9c179e\"], [0.4444444444444444, \"#bd3786\"], [0.5555555555555556, \"#d8576b\"], [0.6666666666666666, \"#ed7953\"], [0.7777777777777778, \"#fb9f3a\"], [0.8888888888888888, \"#fdca26\"], [1.0, \"#f0f921\"]], \"type\": \"heatmapgl\"}], \"histogram\": [{\"marker\": {\"colorbar\": {\"outlinewidth\": 0, \"ticks\": \"\"}}, \"type\": \"histogram\"}], \"histogram2d\": [{\"colorbar\": {\"outlinewidth\": 0, \"ticks\": \"\"}, \"colorscale\": [[0.0, \"#0d0887\"], [0.1111111111111111, \"#46039f\"], [0.2222222222222222, \"#7201a8\"], [0.3333333333333333, \"#9c179e\"], [0.4444444444444444, \"#bd3786\"], [0.5555555555555556, \"#d8576b\"], [0.6666666666666666, \"#ed7953\"], [0.7777777777777778, \"#fb9f3a\"], [0.8888888888888888, \"#fdca26\"], [1.0, \"#f0f921\"]], \"type\": \"histogram2d\"}], \"histogram2dcontour\": [{\"colorbar\": {\"outlinewidth\": 0, \"ticks\": \"\"}, \"colorscale\": [[0.0, \"#0d0887\"], [0.1111111111111111, \"#46039f\"], [0.2222222222222222, \"#7201a8\"], [0.3333333333333333, \"#9c179e\"], [0.4444444444444444, \"#bd3786\"], [0.5555555555555556, \"#d8576b\"], [0.6666666666666666, \"#ed7953\"], [0.7777777777777778, \"#fb9f3a\"], [0.8888888888888888, \"#fdca26\"], [1.0, \"#f0f921\"]], \"type\": \"histogram2dcontour\"}], \"mesh3d\": [{\"colorbar\": {\"outlinewidth\": 0, \"ticks\": \"\"}, \"type\": \"mesh3d\"}], \"parcoords\": [{\"line\": {\"colorbar\": {\"outlinewidth\": 0, \"ticks\": \"\"}}, \"type\": \"parcoords\"}], \"pie\": [{\"automargin\": true, \"type\": \"pie\"}], \"scatter\": [{\"marker\": {\"colorbar\": {\"outlinewidth\": 0, \"ticks\": \"\"}}, \"type\": \"scatter\"}], \"scatter3d\": [{\"line\": {\"colorbar\": {\"outlinewidth\": 0, \"ticks\": \"\"}}, \"marker\": {\"colorbar\": {\"outlinewidth\": 0, \"ticks\": \"\"}}, \"type\": \"scatter3d\"}], \"scattercarpet\": [{\"marker\": {\"colorbar\": {\"outlinewidth\": 0, \"ticks\": \"\"}}, \"type\": \"scattercarpet\"}], \"scattergeo\": [{\"marker\": {\"colorbar\": {\"outlinewidth\": 0, \"ticks\": \"\"}}, \"type\": \"scattergeo\"}], \"scattergl\": [{\"marker\": {\"colorbar\": {\"outlinewidth\": 0, \"ticks\": \"\"}}, \"type\": \"scattergl\"}], \"scattermapbox\": [{\"marker\": {\"colorbar\": {\"outlinewidth\": 0, \"ticks\": \"\"}}, \"type\": \"scattermapbox\"}], \"scatterpolar\": [{\"marker\": {\"colorbar\": {\"outlinewidth\": 0, \"ticks\": \"\"}}, \"type\": \"scatterpolar\"}], \"scatterpolargl\": [{\"marker\": {\"colorbar\": {\"outlinewidth\": 0, \"ticks\": \"\"}}, \"type\": \"scatterpolargl\"}], \"scatterternary\": [{\"marker\": {\"colorbar\": {\"outlinewidth\": 0, \"ticks\": \"\"}}, \"type\": \"scatterternary\"}], \"surface\": [{\"colorbar\": {\"outlinewidth\": 0, \"ticks\": \"\"}, \"colorscale\": [[0.0, \"#0d0887\"], [0.1111111111111111, \"#46039f\"], [0.2222222222222222, \"#7201a8\"], [0.3333333333333333, \"#9c179e\"], [0.4444444444444444, \"#bd3786\"], [0.5555555555555556, \"#d8576b\"], [0.6666666666666666, \"#ed7953\"], [0.7777777777777778, \"#fb9f3a\"], [0.8888888888888888, \"#fdca26\"], [1.0, \"#f0f921\"]], \"type\": \"surface\"}], \"table\": [{\"cells\": {\"fill\": {\"color\": \"#EBF0F8\"}, \"line\": {\"color\": \"white\"}}, \"header\": {\"fill\": {\"color\": \"#C8D4E3\"}, \"line\": {\"color\": \"white\"}}, \"type\": \"table\"}]}, \"layout\": {\"annotationdefaults\": {\"arrowcolor\": \"#2a3f5f\", \"arrowhead\": 0, \"arrowwidth\": 1}, \"coloraxis\": {\"colorbar\": {\"outlinewidth\": 0, \"ticks\": \"\"}}, \"colorscale\": {\"diverging\": [[0, \"#8e0152\"], [0.1, \"#c51b7d\"], [0.2, \"#de77ae\"], [0.3, \"#f1b6da\"], [0.4, \"#fde0ef\"], [0.5, \"#f7f7f7\"], [0.6, \"#e6f5d0\"], [0.7, \"#b8e186\"], [0.8, \"#7fbc41\"], [0.9, \"#4d9221\"], [1, \"#276419\"]], \"sequential\": [[0.0, \"#0d0887\"], [0.1111111111111111, \"#46039f\"], [0.2222222222222222, \"#7201a8\"], [0.3333333333333333, \"#9c179e\"], [0.4444444444444444, \"#bd3786\"], [0.5555555555555556, \"#d8576b\"], [0.6666666666666666, \"#ed7953\"], [0.7777777777777778, \"#fb9f3a\"], [0.8888888888888888, \"#fdca26\"], [1.0, \"#f0f921\"]], \"sequentialminus\": [[0.0, \"#0d0887\"], [0.1111111111111111, \"#46039f\"], [0.2222222222222222, \"#7201a8\"], [0.3333333333333333, \"#9c179e\"], [0.4444444444444444, \"#bd3786\"], [0.5555555555555556, \"#d8576b\"], [0.6666666666666666, \"#ed7953\"], [0.7777777777777778, \"#fb9f3a\"], [0.8888888888888888, \"#fdca26\"], [1.0, \"#f0f921\"]]}, \"colorway\": [\"#636efa\", \"#EF553B\", \"#00cc96\", \"#ab63fa\", \"#FFA15A\", \"#19d3f3\", \"#FF6692\", \"#B6E880\", \"#FF97FF\", \"#FECB52\"], \"font\": {\"color\": \"#2a3f5f\"}, \"geo\": {\"bgcolor\": \"white\", \"lakecolor\": \"white\", \"landcolor\": \"#E5ECF6\", \"showlakes\": true, \"showland\": true, \"subunitcolor\": \"white\"}, \"hoverlabel\": {\"align\": \"left\"}, \"hovermode\": \"closest\", \"mapbox\": {\"style\": \"light\"}, \"paper_bgcolor\": \"white\", \"plot_bgcolor\": \"#E5ECF6\", \"polar\": {\"angularaxis\": {\"gridcolor\": \"white\", \"linecolor\": \"white\", \"ticks\": \"\"}, \"bgcolor\": \"#E5ECF6\", \"radialaxis\": {\"gridcolor\": \"white\", \"linecolor\": \"white\", \"ticks\": \"\"}}, \"scene\": {\"xaxis\": {\"backgroundcolor\": \"#E5ECF6\", \"gridcolor\": \"white\", \"gridwidth\": 2, \"linecolor\": \"white\", \"showbackground\": true, \"ticks\": \"\", \"zerolinecolor\": \"white\"}, \"yaxis\": {\"backgroundcolor\": \"#E5ECF6\", \"gridcolor\": \"white\", \"gridwidth\": 2, \"linecolor\": \"white\", \"showbackground\": true, \"ticks\": \"\", \"zerolinecolor\": \"white\"}, \"zaxis\": {\"backgroundcolor\": \"#E5ECF6\", \"gridcolor\": \"white\", \"gridwidth\": 2, \"linecolor\": \"white\", \"showbackground\": true, \"ticks\": \"\", \"zerolinecolor\": \"white\"}}, \"shapedefaults\": {\"line\": {\"color\": \"#2a3f5f\"}}, \"ternary\": {\"aaxis\": {\"gridcolor\": \"white\", \"linecolor\": \"white\", \"ticks\": \"\"}, \"baxis\": {\"gridcolor\": \"white\", \"linecolor\": \"white\", \"ticks\": \"\"}, \"bgcolor\": \"#E5ECF6\", \"caxis\": {\"gridcolor\": \"white\", \"linecolor\": \"white\", \"ticks\": \"\"}}, \"title\": {\"x\": 0.05}, \"xaxis\": {\"automargin\": true, \"gridcolor\": \"white\", \"linecolor\": \"white\", \"ticks\": \"\", \"title\": {\"standoff\": 15}, \"zerolinecolor\": \"white\", \"zerolinewidth\": 2}, \"yaxis\": {\"automargin\": true, \"gridcolor\": \"white\", \"linecolor\": \"white\", \"ticks\": \"\", \"title\": {\"standoff\": 15}, \"zerolinecolor\": \"white\", \"zerolinewidth\": 2}}}, \"title\": {\"text\": \"Cumulative Returns\"}, \"updatemenus\": [{\"active\": -1, \"buttons\": [{\"args\": [{\"visible\": [true, false, false, false, false, false, false, false, false, false, false, false, false, false, false, false, false, false, false]}, {\"title\": 1928}], \"label\": \"1928\", \"method\": \"update\"}, {\"args\": [{\"visible\": [false, true, false, false, false, false, false, false, false, false, false, false, false, false, false, false, false, false, false]}, {\"title\": 1933}], \"label\": \"1933\", \"method\": \"update\"}, {\"args\": [{\"visible\": [false, false, true, false, false, false, false, false, false, false, false, false, false, false, false, false, false, false, false]}, {\"title\": 1938}], \"label\": \"1938\", \"method\": \"update\"}, {\"args\": [{\"visible\": [false, false, false, true, false, false, false, false, false, false, false, false, false, false, false, false, false, false, false]}, {\"title\": 1943}], \"label\": \"1943\", \"method\": \"update\"}, {\"args\": [{\"visible\": [false, false, false, false, true, false, false, false, false, false, false, false, false, false, false, false, false, false, false]}, {\"title\": 1948}], \"label\": \"1948\", \"method\": \"update\"}, {\"args\": [{\"visible\": [false, false, false, false, false, true, false, false, false, false, false, false, false, false, false, false, false, false, false]}, {\"title\": 1953}], \"label\": \"1953\", \"method\": \"update\"}, {\"args\": [{\"visible\": [false, false, false, false, false, false, true, false, false, false, false, false, false, false, false, false, false, false, false]}, {\"title\": 1958}], \"label\": \"1958\", \"method\": \"update\"}, {\"args\": [{\"visible\": [false, false, false, false, false, false, false, true, false, false, false, false, false, false, false, false, false, false, false]}, {\"title\": 1963}], \"label\": \"1963\", \"method\": \"update\"}, {\"args\": [{\"visible\": [false, false, false, false, false, false, false, false, true, false, false, false, false, false, false, false, false, false, false]}, {\"title\": 1968}], \"label\": \"1968\", \"method\": \"update\"}, {\"args\": [{\"visible\": [false, false, false, false, false, false, false, false, false, true, false, false, false, false, false, false, false, false, false]}, {\"title\": 1973}], \"label\": \"1973\", \"method\": \"update\"}, {\"args\": [{\"visible\": [false, false, false, false, false, false, false, false, false, false, true, false, false, false, false, false, false, false, false]}, {\"title\": 1978}], \"label\": \"1978\", \"method\": \"update\"}, {\"args\": [{\"visible\": [false, false, false, false, false, false, false, false, false, false, false, true, false, false, false, false, false, false, false]}, {\"title\": 1983}], \"label\": \"1983\", \"method\": \"update\"}, {\"args\": [{\"visible\": [false, false, false, false, false, false, false, false, false, false, false, false, true, false, false, false, false, false, false]}, {\"title\": 1988}], \"label\": \"1988\", \"method\": \"update\"}, {\"args\": [{\"visible\": [false, false, false, false, false, false, false, false, false, false, false, false, false, true, false, false, false, false, false]}, {\"title\": 1993}], \"label\": \"1993\", \"method\": \"update\"}, {\"args\": [{\"visible\": [false, false, false, false, false, false, false, false, false, false, false, false, false, false, true, false, false, false, false]}, {\"title\": 1998}], \"label\": \"1998\", \"method\": \"update\"}, {\"args\": [{\"visible\": [false, false, false, false, false, false, false, false, false, false, false, false, false, false, false, true, false, false, false]}, {\"title\": 2003}], \"label\": \"2003\", \"method\": \"update\"}, {\"args\": [{\"visible\": [false, false, false, false, false, false, false, false, false, false, false, false, false, false, false, false, true, false, false]}, {\"title\": 2008}], \"label\": \"2008\", \"method\": \"update\"}, {\"args\": [{\"visible\": [false, false, false, false, false, false, false, false, false, false, false, false, false, false, false, false, false, true, false]}, {\"title\": 2013}], \"label\": \"2013\", \"method\": \"update\"}]}]},\n",
       "                        {\"responsive\": true}\n",
       "                    ).then(function(){\n",
       "                            \n",
       "var gd = document.getElementById('8e309c17-d862-4a82-9b97-ac0000d74bfc');\n",
       "var x = new MutationObserver(function (mutations, observer) {{\n",
       "        var display = window.getComputedStyle(gd).display;\n",
       "        if (!display || display === 'none') {{\n",
       "            console.log([gd, 'removed!']);\n",
       "            Plotly.purge(gd);\n",
       "            observer.disconnect();\n",
       "        }}\n",
       "}});\n",
       "\n",
       "// Listen for the removal of the full notebook cells\n",
       "var notebookContainer = gd.closest('#notebook-container');\n",
       "if (notebookContainer) {{\n",
       "    x.observe(notebookContainer, {childList: true});\n",
       "}}\n",
       "\n",
       "// Listen for the clearing of the current output cell\n",
       "var outputEl = gd.closest('.output');\n",
       "if (outputEl) {{\n",
       "    x.observe(outputEl, {childList: true});\n",
       "}}\n",
       "\n",
       "                        })\n",
       "                };\n",
       "                });\n",
       "            </script>\n",
       "        </div>"
      ]
     },
     "metadata": {},
     "output_type": "display_data"
    }
   ],
   "source": [
    "import plotly.io as pio\n",
    "pio.show(fig)"
   ]
  },
  {
   "cell_type": "markdown",
   "metadata": {},
   "source": [
    "# TODO"
   ]
  },
  {
   "cell_type": "markdown",
   "metadata": {},
   "source": [
    "1. Create dict of cum portfolio returns using make plotting df function **DONE**\n",
    "2. Combine dfs into list of plotly.go.Scatter objects **DONE**\n",
    "3. Extend updatemenus object with different time periods **DONE**\n",
    "\n",
    "4. Add option to vary stock share **DONE**"
   ]
  },
  {
   "cell_type": "code",
   "execution_count": 14,
   "metadata": {},
   "outputs": [
    {
     "data": {
      "text/plain": [
       "Index(['snp500', '3mon', '10yr', 'portfolio'], dtype='object')"
      ]
     },
     "execution_count": 14,
     "metadata": {},
     "output_type": "execute_result"
    }
   ],
   "source": [
    "df_all_returns.columns"
   ]
  },
  {
   "cell_type": "code",
   "execution_count": 15,
   "metadata": {},
   "outputs": [
    {
     "data": {
      "text/html": [
       "<div>\n",
       "<style scoped>\n",
       "    .dataframe tbody tr th:only-of-type {\n",
       "        vertical-align: middle;\n",
       "    }\n",
       "\n",
       "    .dataframe tbody tr th {\n",
       "        vertical-align: top;\n",
       "    }\n",
       "\n",
       "    .dataframe thead th {\n",
       "        text-align: right;\n",
       "    }\n",
       "</style>\n",
       "<table border=\"1\" class=\"dataframe\">\n",
       "  <thead>\n",
       "    <tr style=\"text-align: right;\">\n",
       "      <th></th>\n",
       "      <th>snp500</th>\n",
       "      <th>3mon</th>\n",
       "      <th>10yr</th>\n",
       "      <th>portfolio</th>\n",
       "    </tr>\n",
       "    <tr>\n",
       "      <th>year</th>\n",
       "      <th></th>\n",
       "      <th></th>\n",
       "      <th></th>\n",
       "      <th></th>\n",
       "    </tr>\n",
       "  </thead>\n",
       "  <tbody>\n",
       "    <tr>\n",
       "      <th>1990</th>\n",
       "      <td>-0.0306</td>\n",
       "      <td>0.0755</td>\n",
       "      <td>0.0624</td>\n",
       "      <td>0.042425</td>\n",
       "    </tr>\n",
       "    <tr>\n",
       "      <th>1991</th>\n",
       "      <td>0.3023</td>\n",
       "      <td>0.0561</td>\n",
       "      <td>0.1500</td>\n",
       "      <td>0.164600</td>\n",
       "    </tr>\n",
       "    <tr>\n",
       "      <th>1992</th>\n",
       "      <td>0.0749</td>\n",
       "      <td>0.0341</td>\n",
       "      <td>0.0936</td>\n",
       "      <td>0.074050</td>\n",
       "    </tr>\n",
       "    <tr>\n",
       "      <th>1993</th>\n",
       "      <td>0.0997</td>\n",
       "      <td>0.0298</td>\n",
       "      <td>0.1421</td>\n",
       "      <td>0.103425</td>\n",
       "    </tr>\n",
       "    <tr>\n",
       "      <th>1994</th>\n",
       "      <td>0.0133</td>\n",
       "      <td>0.0399</td>\n",
       "      <td>-0.0804</td>\n",
       "      <td>-0.026900</td>\n",
       "    </tr>\n",
       "  </tbody>\n",
       "</table>\n",
       "</div>"
      ],
      "text/plain": [
       "      snp500    3mon    10yr  portfolio\n",
       "year                                   \n",
       "1990 -0.0306  0.0755  0.0624   0.042425\n",
       "1991  0.3023  0.0561  0.1500   0.164600\n",
       "1992  0.0749  0.0341  0.0936   0.074050\n",
       "1993  0.0997  0.0298  0.1421   0.103425\n",
       "1994  0.0133  0.0399 -0.0804  -0.026900"
      ]
     },
     "execution_count": 15,
     "metadata": {},
     "output_type": "execute_result"
    }
   ],
   "source": [
    "df_all_returns.loc[1990:1994,:]"
   ]
  },
  {
   "cell_type": "code",
   "execution_count": 17,
   "metadata": {},
   "outputs": [
    {
     "data": {
      "text/plain": [
       "array([[ 0.042425],\n",
       "       [ 0.1646  ],\n",
       "       [ 0.07405 ],\n",
       "       [ 0.103425],\n",
       "       [-0.0269  ]])"
      ]
     },
     "execution_count": 17,
     "metadata": {},
     "output_type": "execute_result"
    }
   ],
   "source": [
    "get_portfolio_returns(df.loc[1990:1994,:].to_numpy(), np.array([0.25, 0.25, 0.5]), n_assets=3, n_time_periods=5)"
   ]
  },
  {
   "cell_type": "markdown",
   "metadata": {},
   "source": [
    "# TODO"
   ]
  },
  {
   "cell_type": "markdown",
   "metadata": {},
   "source": [
    "For each year range,\n",
    "    - calculate the 5-year returns\n",
    "    - write the returns for the 5 years into a new row\n",
    "   \n",
    "Form quantiles for each column"
   ]
  },
  {
   "cell_type": "code",
   "execution_count": 27,
   "metadata": {},
   "outputs": [
    {
     "data": {
      "text/html": [
       "<div>\n",
       "<style scoped>\n",
       "    .dataframe tbody tr th:only-of-type {\n",
       "        vertical-align: middle;\n",
       "    }\n",
       "\n",
       "    .dataframe tbody tr th {\n",
       "        vertical-align: top;\n",
       "    }\n",
       "\n",
       "    .dataframe thead th {\n",
       "        text-align: right;\n",
       "    }\n",
       "</style>\n",
       "<table border=\"1\" class=\"dataframe\">\n",
       "  <thead>\n",
       "    <tr style=\"text-align: right;\">\n",
       "      <th></th>\n",
       "      <th>snp500</th>\n",
       "      <th>3mon</th>\n",
       "      <th>10yr</th>\n",
       "      <th>portfolio</th>\n",
       "    </tr>\n",
       "  </thead>\n",
       "  <tbody>\n",
       "    <tr>\n",
       "      <th>2007</th>\n",
       "      <td>100.000000</td>\n",
       "      <td>100.000000</td>\n",
       "      <td>100.000000</td>\n",
       "      <td>100.000000</td>\n",
       "    </tr>\n",
       "    <tr>\n",
       "      <th>2008</th>\n",
       "      <td>63.450000</td>\n",
       "      <td>101.590000</td>\n",
       "      <td>120.100000</td>\n",
       "      <td>101.310000</td>\n",
       "    </tr>\n",
       "    <tr>\n",
       "      <th>2009</th>\n",
       "      <td>79.908930</td>\n",
       "      <td>101.732226</td>\n",
       "      <td>106.744880</td>\n",
       "      <td>102.282576</td>\n",
       "    </tr>\n",
       "    <tr>\n",
       "      <th>2010</th>\n",
       "      <td>91.751433</td>\n",
       "      <td>101.864478</td>\n",
       "      <td>115.775497</td>\n",
       "      <td>110.431940</td>\n",
       "    </tr>\n",
       "    <tr>\n",
       "      <th>2011</th>\n",
       "      <td>93.678214</td>\n",
       "      <td>101.895037</td>\n",
       "      <td>134.345887</td>\n",
       "      <td>119.876632</td>\n",
       "    </tr>\n",
       "    <tr>\n",
       "      <th>2012</th>\n",
       "      <td>108.563682</td>\n",
       "      <td>101.945985</td>\n",
       "      <td>138.335959</td>\n",
       "      <td>126.433884</td>\n",
       "    </tr>\n",
       "  </tbody>\n",
       "</table>\n",
       "</div>"
      ],
      "text/plain": [
       "          snp500        3mon        10yr   portfolio\n",
       "2007  100.000000  100.000000  100.000000  100.000000\n",
       "2008   63.450000  101.590000  120.100000  101.310000\n",
       "2009   79.908930  101.732226  106.744880  102.282576\n",
       "2010   91.751433  101.864478  115.775497  110.431940\n",
       "2011   93.678214  101.895037  134.345887  119.876632\n",
       "2012  108.563682  101.945985  138.335959  126.433884"
      ]
     },
     "execution_count": 27,
     "metadata": {},
     "output_type": "execute_result"
    }
   ],
   "source": [
    "dfs[\"2008\"]"
   ]
  },
  {
   "cell_type": "code",
   "execution_count": 18,
   "metadata": {},
   "outputs": [
    {
     "data": {
      "text/html": [
       "<div>\n",
       "<style scoped>\n",
       "    .dataframe tbody tr th:only-of-type {\n",
       "        vertical-align: middle;\n",
       "    }\n",
       "\n",
       "    .dataframe tbody tr th {\n",
       "        vertical-align: top;\n",
       "    }\n",
       "\n",
       "    .dataframe thead th {\n",
       "        text-align: right;\n",
       "    }\n",
       "</style>\n",
       "<table border=\"1\" class=\"dataframe\">\n",
       "  <thead>\n",
       "    <tr style=\"text-align: right;\">\n",
       "      <th></th>\n",
       "      <th>snp500</th>\n",
       "      <th>3mon</th>\n",
       "      <th>10yr</th>\n",
       "      <th>portfolio</th>\n",
       "    </tr>\n",
       "  </thead>\n",
       "  <tbody>\n",
       "    <tr>\n",
       "      <th>2013</th>\n",
       "      <td>0.321500</td>\n",
       "      <td>0.000700</td>\n",
       "      <td>-0.091000</td>\n",
       "      <td>0.035050</td>\n",
       "    </tr>\n",
       "    <tr>\n",
       "      <th>2014</th>\n",
       "      <td>0.500167</td>\n",
       "      <td>0.001200</td>\n",
       "      <td>0.006717</td>\n",
       "      <td>0.125798</td>\n",
       "    </tr>\n",
       "    <tr>\n",
       "      <th>2015</th>\n",
       "      <td>0.520869</td>\n",
       "      <td>0.003303</td>\n",
       "      <td>0.019603</td>\n",
       "      <td>0.137478</td>\n",
       "    </tr>\n",
       "    <tr>\n",
       "      <th>2016</th>\n",
       "      <td>0.699875</td>\n",
       "      <td>0.008420</td>\n",
       "      <td>0.026639</td>\n",
       "      <td>0.176323</td>\n",
       "    </tr>\n",
       "    <tr>\n",
       "      <th>2017</th>\n",
       "      <td>1.067218</td>\n",
       "      <td>0.022437</td>\n",
       "      <td>0.055385</td>\n",
       "      <td>0.260430</td>\n",
       "    </tr>\n",
       "  </tbody>\n",
       "</table>\n",
       "</div>"
      ],
      "text/plain": [
       "        snp500      3mon      10yr  portfolio\n",
       "2013  0.321500  0.000700 -0.091000   0.035050\n",
       "2014  0.500167  0.001200  0.006717   0.125798\n",
       "2015  0.520869  0.003303  0.019603   0.137478\n",
       "2016  0.699875  0.008420  0.026639   0.176323\n",
       "2017  1.067218  0.022437  0.055385   0.260430"
      ]
     },
     "execution_count": 18,
     "metadata": {},
     "output_type": "execute_result"
    }
   ],
   "source": [
    "df_cum_returns"
   ]
  },
  {
   "cell_type": "code",
   "execution_count": 41,
   "metadata": {},
   "outputs": [],
   "source": [
    "return_mat = np.zeros((params[\"year_end\"] - params[\"year_start\"], 6))"
   ]
  },
  {
   "cell_type": "code",
   "execution_count": 23,
   "metadata": {},
   "outputs": [
    {
     "data": {
      "text/plain": [
       "(90, 5)"
      ]
     },
     "execution_count": 23,
     "metadata": {},
     "output_type": "execute_result"
    }
   ],
   "source": [
    "return_mat.shape"
   ]
  },
  {
   "cell_type": "code",
   "execution_count": null,
   "metadata": {},
   "outputs": [],
   "source": [
    "6         .head()                |~                                                                                  \n",
    "157         # print(str(df_returns))                                                |~                                                                                  \n",
    "158         df_cum_returns = (                                                      |~                                                                                  \n",
    "159             pd.DataFrame(data=get_cum_net_returns(df_returns.to_numpy()),       |~                                                                                  \n",
    "160                         index=range(beginning, end))                            |~                                                                                  \n",
    "161         )                                                                       |~                                                                                  \n",
    "162         df_cum_returns.columns = df_returns.columns                             |~                                                                                  \n",
    "163         # print(str(df_cum_returns.head()))                                     |~                                                                                  \n",
    "164         # make_plot_df(df_cum_returns).plot()                                   |~                                                                                  \n",
    "165         # plt.show()                                                            |~                                                                                  \n",
    "166         dfs[str(beginning)] = make_plot_df(df_cum_returns)  "
   ]
  },
  {
   "cell_type": "code",
   "execution_count": 49,
   "metadata": {
    "scrolled": true
   },
   "outputs": [
    {
     "name": "stdout",
     "output_type": "stream",
     "text": [
      "1928\n",
      "1929\n",
      "1930\n",
      "1931\n",
      "1932\n",
      "1933\n",
      "1934\n",
      "1935\n",
      "1936\n",
      "1937\n",
      "1938\n",
      "1939\n",
      "1940\n",
      "1941\n",
      "1942\n",
      "1943\n",
      "1944\n",
      "1945\n",
      "1946\n",
      "1947\n",
      "1948\n",
      "1949\n",
      "1950\n",
      "1951\n",
      "1952\n",
      "1953\n",
      "1954\n",
      "1955\n",
      "1956\n",
      "1957\n",
      "1958\n",
      "1959\n",
      "1960\n",
      "1961\n",
      "1962\n",
      "1963\n",
      "1964\n",
      "1965\n",
      "1966\n",
      "1967\n",
      "1968\n",
      "1969\n",
      "1970\n",
      "1971\n",
      "1972\n",
      "1973\n",
      "1974\n",
      "1975\n",
      "1976\n",
      "1977\n",
      "1978\n",
      "1979\n",
      "1980\n",
      "1981\n",
      "1982\n",
      "1983\n",
      "1984\n",
      "1985\n",
      "1986\n",
      "1987\n",
      "1988\n",
      "1989\n",
      "1990\n",
      "1991\n",
      "1992\n",
      "1993\n",
      "1994\n",
      "1995\n",
      "1996\n",
      "1997\n",
      "1998\n",
      "1999\n",
      "2000\n",
      "2001\n",
      "2002\n",
      "2003\n",
      "2004\n",
      "2005\n",
      "2006\n",
      "2007\n",
      "2008\n",
      "2009\n",
      "2010\n",
      "2011\n",
      "2012\n"
     ]
    }
   ],
   "source": [
    "for first_year in range(params[\"year_start\"], params[\"year_end\"] - params[\"year_step_size\"]):\n",
    "    print(first_year)\n",
    "    end = first_year + params[\"year_step_size\"] - 1\n",
    "    df_returns = df_all_returns.loc[first_year:end, :]\n",
    "    df_cum_returns = (pd.DataFrame(data=get_cum_net_returns(df_returns.to_numpy()),\n",
    "                                   index=range(first_year, end + 1))\n",
    "                     )\n",
    "    df_cum_returns.columns = df_returns.columns\n",
    "    df_cum_returns_normalised = make_plot_df(df_cum_returns)\n",
    "    \n",
    "    row_idx = first_year - params[\"year_end\"]\n",
    "    return_mat[row_idx,:] = df_cum_returns_normalised[\"portfolio\"].to_numpy()"
   ]
  },
  {
   "cell_type": "code",
   "execution_count": 51,
   "metadata": {
    "scrolled": true
   },
   "outputs": [
    {
     "data": {
      "text/plain": [
       "(90, 6)"
      ]
     },
     "execution_count": 51,
     "metadata": {},
     "output_type": "execute_result"
    }
   ],
   "source": [
    "return_mat.shape"
   ]
  },
  {
   "cell_type": "code",
   "execution_count": 52,
   "metadata": {},
   "outputs": [],
   "source": [
    "return_mat.sort(axis=0)"
   ]
  },
  {
   "cell_type": "code",
   "execution_count": 53,
   "metadata": {},
   "outputs": [
    {
     "data": {
      "text/plain": [
       "array([[100.        ,  88.3375    ,  85.80000531,  86.49927536,\n",
       "         88.66391972,  98.31421896],\n",
       "       [100.        ,  91.93      ,  90.54814594,  87.94715045,\n",
       "         97.00244987,  99.42993617],\n",
       "       [100.        ,  95.8175    ,  95.855827  ,  97.71543004,\n",
       "         99.96512855, 100.77984435],\n",
       "       [100.        ,  96.465     ,  96.40229775, 101.62874418,\n",
       "        102.60570247, 103.72631652],\n",
       "       [100.        ,  97.075     ,  97.91908913, 102.5646766 ,\n",
       "        103.60034182, 111.47914781],\n",
       "       [100.        ,  97.1275    , 100.6127885 , 102.92155008,\n",
       "        106.7939734 , 113.3853941 ],\n",
       "       [100.        ,  97.31      , 101.44648631, 103.2348106 ,\n",
       "        106.94465241, 113.41777837],\n",
       "       [100.        ,  99.5525    , 101.58810894, 104.13989052,\n",
       "        109.15257143, 113.99348798],\n",
       "       [100.        ,  99.935     , 101.61712375, 108.50319618,\n",
       "        109.35761018, 116.07490138],\n",
       "       [100.        , 100.04      , 101.980776  , 108.96460749,\n",
       "        111.61713466, 120.71899762],\n",
       "       [100.        , 100.1725    , 102.282576  , 109.31388462,\n",
       "        113.1298672 , 120.78090142],\n",
       "       [100.        , 100.1825    , 102.56216437, 109.80891452,\n",
       "        113.37242939, 120.80409432],\n",
       "       [100.        , 100.4025    , 102.98431725, 110.09185068,\n",
       "        113.46652061, 121.09113393],\n",
       "       [100.        , 100.74      , 103.15792025, 110.43194024,\n",
       "        115.54320854, 121.50871145],\n",
       "       [100.        , 100.815     , 103.2408705 , 110.71794756,\n",
       "        116.02848999, 121.70775179],\n",
       "       [100.        , 100.96      , 104.60801138, 110.84318531,\n",
       "        116.1933602 , 122.0190596 ],\n",
       "       [100.        , 101.31      , 104.61515037, 110.9968409 ,\n",
       "        116.46356508, 122.64045012],\n",
       "       [100.        , 101.3375    , 106.42576831, 111.02265111,\n",
       "        116.75515994, 123.83921091],\n",
       "       [100.        , 101.37      , 107.01789313, 111.1149291 ,\n",
       "        116.83746247, 124.06679128],\n",
       "       [100.        , 101.5925    , 107.37428675, 111.14575114,\n",
       "        117.42826472, 124.22877328],\n",
       "       [100.        , 101.9025    , 107.69257812, 111.21486109,\n",
       "        118.75645645, 125.21292899],\n",
       "       [100.        , 101.94      , 108.3080925 , 111.61286029,\n",
       "        118.86341888, 125.46916515],\n",
       "       [100.        , 102.225     , 108.466416  , 111.7786728 ,\n",
       "        119.36322778, 125.50344642],\n",
       "       [100.        , 102.24      , 108.57376913, 112.11886659,\n",
       "        119.46855986, 125.61487683],\n",
       "       [100.        , 102.4825    , 108.70473625, 112.44148487,\n",
       "        119.57111492, 125.65836354],\n",
       "       [100.        , 102.5025    , 108.81031313, 112.55487656,\n",
       "        119.87663193, 125.83365206],\n",
       "       [100.        , 102.505     , 109.003988  , 113.61744801,\n",
       "        119.90498231, 126.05762731],\n",
       "       [100.        , 102.655     , 109.0450185 , 113.7799011 ,\n",
       "        119.91671066, 126.29707212],\n",
       "       [100.        , 102.97      , 109.1667235 , 114.88957786,\n",
       "        119.95140691, 126.4338837 ],\n",
       "       [100.        , 103.395     , 109.33952088, 115.12625394,\n",
       "        119.96982186, 127.17466957],\n",
       "       [100.        , 103.7625    , 109.3731615 , 115.32535268,\n",
       "        120.16522939, 127.33049378],\n",
       "       [100.        , 104.2425    , 109.65298237, 115.39605733,\n",
       "        120.88261143, 127.39005083],\n",
       "       [100.        , 104.435     , 109.70544406, 115.64496824,\n",
       "        121.09063779, 128.55414383],\n",
       "       [100.        , 105.2375    , 109.90465312, 115.80795508,\n",
       "        121.29946986, 128.67187419],\n",
       "       [100.        , 105.47      , 110.025629  , 115.97921627,\n",
       "        121.32382554, 128.73360964],\n",
       "       [100.        , 105.6525    , 110.20711844, 116.14829306,\n",
       "        122.54984047, 128.77310843],\n",
       "       [100.        , 106.0225    , 110.29967644, 117.01189048,\n",
       "        122.58754553, 128.96152925],\n",
       "       [100.        , 106.0525    , 110.45349875, 117.02005455,\n",
       "        124.09403515, 129.01561313],\n",
       "       [100.        , 106.09      , 110.641265  , 117.23810491,\n",
       "        124.2065463 , 129.02921278],\n",
       "       [100.        , 106.14      , 111.568233  , 117.27555818,\n",
       "        124.57811939, 129.17322211],\n",
       "       [100.        , 106.1425    , 111.58618663, 117.68102985,\n",
       "        124.68570462, 129.20488916],\n",
       "       [100.        , 106.2425    , 112.08192563, 118.01491174,\n",
       "        124.79901658, 130.23024088],\n",
       "       [100.        , 106.5       , 112.24785731, 118.02498758,\n",
       "        124.98483167, 130.67289001],\n",
       "       [100.        , 106.6675    , 112.603926  , 118.32655407,\n",
       "        125.29437033, 131.31196763],\n",
       "       [100.        , 106.8475    , 113.05646138, 118.36823181,\n",
       "        125.52741251, 131.31577359],\n",
       "       [100.        , 107.0875    , 113.08864125, 118.50320753,\n",
       "        125.73923836, 131.51483531],\n",
       "       [100.        , 107.18      , 113.16977656, 118.73791598,\n",
       "        126.15406279, 132.33638968],\n",
       "       [100.        , 107.27      , 114.08551112, 118.82760834,\n",
       "        126.36893936, 132.46920974],\n",
       "       [100.        , 107.405     , 114.14960837, 119.05873314,\n",
       "        126.37921861, 132.66939354],\n",
       "       [100.        , 107.45      , 114.21463712, 119.69850239,\n",
       "        126.74601644, 133.52280394],\n",
       "       [100.        , 107.5125    , 114.49032175, 120.62882641,\n",
       "        127.68026516, 133.52282836],\n",
       "       [100.        , 107.5375    , 114.61531325, 120.87004995,\n",
       "        127.80994719, 133.56861473],\n",
       "       [100.        , 107.605     , 114.854094  , 120.89313531,\n",
       "        127.94495059, 133.75169122],\n",
       "       [100.        , 107.635     , 115.40022175, 121.09321365,\n",
       "        128.13111276, 133.84313162],\n",
       "       [100.        , 107.64      , 115.47556881, 121.84870832,\n",
       "        128.62454415, 134.06480776],\n",
       "       [100.        , 107.895     , 115.979478  , 123.10061795,\n",
       "        128.7266032 , 134.12290208],\n",
       "       [100.        , 107.9675    , 116.345925  , 123.61233814,\n",
       "        128.89297625, 136.45777888],\n",
       "       [100.        , 108.21      , 116.50946663, 124.763495  ,\n",
       "        130.10257236, 136.58580799],\n",
       "       [100.        , 108.2575    , 117.20142044, 125.01369641,\n",
       "        130.58975175, 139.16252413],\n",
       "       [100.        , 108.5525    , 117.35183687, 125.06612466,\n",
       "        130.59744558, 139.48430567],\n",
       "       [100.        , 109.245     , 117.3837525 , 125.80647902,\n",
       "        132.4239736 , 140.00591864],\n",
       "       [100.        , 109.2975    , 117.60156   , 126.72113989,\n",
       "        133.74344387, 141.00632424],\n",
       "       [100.        , 109.445     , 117.76510375, 126.88620316,\n",
       "        134.30790574, 142.87884631],\n",
       "       [100.        , 109.585     , 117.94164563, 127.18990745,\n",
       "        134.35292054, 143.29598183],\n",
       "       [100.        , 109.8575    , 118.25293312, 128.22819731,\n",
       "        134.61357293, 143.70733044],\n",
       "       [100.        , 110.325     , 118.30243688, 129.88583459,\n",
       "        136.52910556, 146.71973394],\n",
       "       [100.        , 110.3425    , 118.51336213, 130.18719403,\n",
       "        137.77586165, 151.96754783],\n",
       "       [100.        , 110.5375    , 118.74854681, 130.39054589,\n",
       "        141.18129676, 152.29399307],\n",
       "       [100.        , 110.805     , 119.126902  , 130.45418481,\n",
       "        141.49019862, 156.76903079],\n",
       "       [100.        , 110.9375    , 121.10709488, 130.71383595,\n",
       "        143.8761881 , 159.00179634],\n",
       "       [100.        , 110.95      , 121.4008155 , 130.97259329,\n",
       "        145.64198327, 159.9588953 ],\n",
       "       [100.        , 112.1425    , 121.57085938, 131.44760184,\n",
       "        145.81470135, 161.47638638],\n",
       "       [100.        , 112.5525    , 123.255873  , 134.41219644,\n",
       "        146.83090304, 162.01688918],\n",
       "       [100.        , 113.665     , 123.78015056, 135.4651629 ,\n",
       "        148.57588164, 164.4197382 ],\n",
       "       [100.        , 113.965     , 124.10622375, 135.9817789 ,\n",
       "        154.82899395, 169.78835931],\n",
       "       [100.        , 114.5075    , 125.083863  , 138.02066153,\n",
       "        154.9045604 , 169.92373331],\n",
       "       [100.        , 115.025     , 125.97406188, 142.64094043,\n",
       "        155.3451445 , 170.09126203],\n",
       "       [100.        , 115.19      , 129.64922475, 144.15436335,\n",
       "        158.01615571, 170.84218265],\n",
       "       [100.        , 115.7275    , 130.44754194, 144.57435505,\n",
       "        158.36437971, 175.08980134],\n",
       "       [100.        , 116.46      , 131.772888  , 144.64383332,\n",
       "        159.85529672, 176.22475103],\n",
       "       [100.        , 118.2725    , 132.3395625 , 145.51150055,\n",
       "        160.27259951, 177.12766153],\n",
       "       [100.        , 118.2725    , 132.3395625 , 145.51150055,\n",
       "        160.27259951, 177.12766153],\n",
       "       [100.        , 118.7425    , 132.51666706, 148.40160638,\n",
       "        161.23401818, 178.50635739],\n",
       "       [100.        , 118.7425    , 132.51666706, 148.40160638,\n",
       "        161.23401818, 178.50635739],\n",
       "       [100.        , 122.42      , 135.77767688, 150.49070377,\n",
       "        174.62103927, 189.8161757 ],\n",
       "       [100.        , 122.42      , 135.77767688, 150.49070377,\n",
       "        174.62103927, 189.8161757 ],\n",
       "       [100.        , 122.5375    , 135.81580594, 150.88983973,\n",
       "        175.51828991, 196.39403663],\n",
       "       [100.        , 122.5375    , 135.81580594, 150.88983973,\n",
       "        175.51828991, 196.39403663],\n",
       "       [100.        , 124.2625    , 144.92816469, 160.58765288,\n",
       "        184.40754613, 218.103415  ],\n",
       "       [100.        , 124.2625    , 144.92816469, 160.58765288,\n",
       "        184.40754613, 218.103415  ]])"
      ]
     },
     "execution_count": 53,
     "metadata": {},
     "output_type": "execute_result"
    }
   ],
   "source": [
    "return_mat"
   ]
  },
  {
   "cell_type": "code",
   "execution_count": null,
   "metadata": {},
   "outputs": [],
   "source": [
    "for column in return_mat.T:\n",
    "   some_function(column)"
   ]
  },
  {
   "cell_type": "code",
   "execution_count": 63,
   "metadata": {},
   "outputs": [],
   "source": [
    "df_quantiles = pd.DataFrame(data=return_mat)\n",
    "df_quantiles.columns = [\"y0\", \"y1\", \"y2\", \"y3\", \"y4\", \"y5\"]"
   ]
  },
  {
   "cell_type": "code",
   "execution_count": 64,
   "metadata": {},
   "outputs": [
    {
     "data": {
      "text/plain": [
       "Index(['y0', 'y1', 'y2', 'y3', 'y4', 'y5'], dtype='object')"
      ]
     },
     "execution_count": 64,
     "metadata": {},
     "output_type": "execute_result"
    }
   ],
   "source": [
    "df_quantiles.columns"
   ]
  },
  {
   "cell_type": "code",
   "execution_count": 65,
   "metadata": {},
   "outputs": [],
   "source": [
    "df_quantiles[\"q10_y1\"] = df_quantiles[\"y1\"].quantile(0.2)"
   ]
  }
 ],
 "metadata": {
  "kernelspec": {
   "display_name": "Python 3",
   "language": "python",
   "name": "python3"
  },
  "language_info": {
   "codemirror_mode": {
    "name": "ipython",
    "version": 3
   },
   "file_extension": ".py",
   "mimetype": "text/x-python",
   "name": "python",
   "nbconvert_exporter": "python",
   "pygments_lexer": "ipython3",
   "version": "3.5.2"
  }
 },
 "nbformat": 4,
 "nbformat_minor": 2
}
