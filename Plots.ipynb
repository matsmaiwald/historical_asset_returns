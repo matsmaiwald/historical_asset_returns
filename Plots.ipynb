{
 "cells": [
  {
   "cell_type": "code",
   "execution_count": 1,
   "metadata": {},
   "outputs": [],
   "source": [
    "%matplotlib inline"
   ]
  },
  {
   "cell_type": "code",
   "execution_count": 2,
   "metadata": {},
   "outputs": [],
   "source": [
    "%load_ext autoreload\n",
    "%autoreload 2"
   ]
  },
  {
   "cell_type": "code",
   "execution_count": 3,
   "metadata": {},
   "outputs": [],
   "source": [
    "import matplotlib.pyplot as plt"
   ]
  },
  {
   "cell_type": "code",
   "execution_count": 4,
   "metadata": {},
   "outputs": [
    {
     "name": "stdout",
     "output_type": "stream",
     "text": [
      "Object `go.Scatter` not found.\n"
     ]
    }
   ],
   "source": [
    "go.Scatter?"
   ]
  },
  {
   "cell_type": "code",
   "execution_count": 5,
   "metadata": {
    "scrolled": false
   },
   "outputs": [
    {
     "name": "stdout",
     "output_type": "stream",
     "text": [
      "1928 1932\n",
      "1933 1937\n",
      "1938 1942\n",
      "1943 1947\n",
      "1948 1952\n",
      "1953 1957\n",
      "1958 1962\n",
      "1963 1967\n",
      "1968 1972\n",
      "1973 1977\n",
      "1978 1982\n",
      "1983 1987\n",
      "1988 1992\n",
      "1993 1997\n",
      "1998 2002\n",
      "2003 2007\n",
      "2008 2012\n"
     ]
    }
   ],
   "source": [
    "%run mvp.py"
   ]
  },
  {
   "cell_type": "code",
   "execution_count": null,
   "metadata": {},
   "outputs": [],
   "source": [
    "import plotly.io as pio\n",
    "pio.show(fig)"
   ]
  },
  {
   "cell_type": "markdown",
   "metadata": {},
   "source": [
    "# TODO"
   ]
  },
  {
   "cell_type": "markdown",
   "metadata": {},
   "source": [
    "1. Create dict of cum portfolio returns using make plotting df function **DONE**\n",
    "2. Combine dfs into list of plotly.go.Scatter objects **DONE**\n",
    "3. Extend updatemenus object with different time periods **DONE**\n",
    "\n",
    "4. Potentially reset index to year 1, 2, ..., 10\n",
    "5. Add option to vary stock share"
   ]
  },
  {
   "cell_type": "code",
   "execution_count": null,
   "metadata": {},
   "outputs": [],
   "source": [
    "df_all_returns.columns"
   ]
  },
  {
   "cell_type": "code",
   "execution_count": null,
   "metadata": {},
   "outputs": [],
   "source": [
    "df_all_returns.loc[1990:1994,:]"
   ]
  },
  {
   "cell_type": "code",
   "execution_count": null,
   "metadata": {},
   "outputs": [],
   "source": [
    "get_portfolio_returns(df.loc[1990:1994,:].to_numpy(), np.array([0.25, 0.25, 0.5]), n_assets=3, n_time_periods=5)"
   ]
  }
 ],
 "metadata": {
  "kernelspec": {
   "display_name": "Python 3",
   "language": "python",
   "name": "python3"
  },
  "language_info": {
   "codemirror_mode": {
    "name": "ipython",
    "version": 3
   },
   "file_extension": ".py",
   "mimetype": "text/x-python",
   "name": "python",
   "nbconvert_exporter": "python",
   "pygments_lexer": "ipython3",
   "version": "3.5.2"
  }
 },
 "nbformat": 4,
 "nbformat_minor": 2
}
